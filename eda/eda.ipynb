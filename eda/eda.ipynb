{
 "cells": [
  {
   "cell_type": "code",
   "execution_count": null,
   "metadata": {},
   "outputs": [],
   "source": [
    "import pandas as pd\n",
    "import numpy as np\n",
    "import plotly.express as px\n",
    "import plotly.graph_objects as go\n",
    "\n",
    "from sklearn.preprocessing import StandardScaler\n",
    "\n",
    "from sklearn.decomposition import PCA\n"
   ]
  },
  {
   "cell_type": "code",
   "execution_count": null,
   "metadata": {},
   "outputs": [],
   "source": [
    "race_df = pd.read_csv('../datasets/preprocessed_races.csv')\n",
    "print(race_df.shape)\n",
    "race_df.head()\n"
   ]
  },
  {
   "cell_type": "code",
   "execution_count": null,
   "metadata": {},
   "outputs": [],
   "source": [
    "weather_df = pd.read_csv('../datasets/weather.csv')\n",
    "print(weather_df.shape)\n",
    "weather_df.head()\n"
   ]
  },
  {
   "cell_type": "code",
   "execution_count": null,
   "metadata": {},
   "outputs": [],
   "source": [
    "horse_df = pd.read_csv('../datasets/hkjc_horses.csv')\n",
    "print(horse_df.shape)\n",
    "horse_df.head()\n"
   ]
  },
  {
   "cell_type": "markdown",
   "metadata": {},
   "source": [
    "### Merge Weather data into Race data"
   ]
  },
  {
   "cell_type": "code",
   "execution_count": null,
   "metadata": {},
   "outputs": [],
   "source": [
    "agg_race_df = race_df.set_index('race_date').join(weather_df.set_index('race_date'), how='inner').reset_index()\n",
    "print(agg_race_df.shape)\n",
    "agg_race_df.head()\n"
   ]
  },
  {
   "cell_type": "markdown",
   "metadata": {},
   "source": [
    "### Merge Horse data into Race data"
   ]
  },
  {
   "cell_type": "code",
   "execution_count": null,
   "metadata": {},
   "outputs": [],
   "source": [
    "agg_race_df = agg_race_df.set_index('horse_id').join(horse_df.set_index('horse_id'), how='inner').reset_index()\n",
    "print(agg_race_df.shape)\n",
    "agg_race_df.head()\n"
   ]
  },
  {
   "cell_type": "code",
   "execution_count": null,
   "metadata": {},
   "outputs": [],
   "source": [
    "agg_race_df.isna().sum()\n"
   ]
  },
  {
   "cell_type": "code",
   "execution_count": null,
   "metadata": {},
   "outputs": [],
   "source": []
  },
  {
   "cell_type": "markdown",
   "metadata": {},
   "source": [
    "# Feature Engineering"
   ]
  },
  {
   "cell_type": "markdown",
   "metadata": {},
   "source": [
    "### Analysing Weather Features"
   ]
  },
  {
   "cell_type": "code",
   "execution_count": null,
   "metadata": {},
   "outputs": [],
   "source": [
    "WEATHER_FEATURES = [\n",
    "    'temperature_2m_max', 'temperature_2m_min', 'temperature_2m_mean', \n",
    "    'precipitation_sum', 'rain_sum', 'wind_speed_10m_max', 'wind_gusts_10m_max',\n",
    "    'wind_direction_10m_dominant', 'finishing_position', 'finish_time_s', 'race_speed'\n",
    "]\n",
    "\n",
    "weather_features_df = agg_race_df[WEATHER_FEATURES]\n",
    "print(weather_features_df.shape)\n",
    "weather_features_df.head()\n"
   ]
  },
  {
   "cell_type": "code",
   "execution_count": null,
   "metadata": {},
   "outputs": [],
   "source": [
    "fig = px.imshow(\n",
    "    weather_features_df.corr(),\n",
    "    labels=dict(color=\"Correlation\")\n",
    ")\n",
    "\n",
    "fig.update_layout(\n",
    "    title=\"Correlation Heatmap\",\n",
    ")\n",
    "\n",
    "fig.show()\n"
   ]
  },
  {
   "cell_type": "code",
   "execution_count": null,
   "metadata": {},
   "outputs": [],
   "source": [
    "SCALED_WEATHER_FEATURES = [\n",
    "    'temperature_2m_max', 'temperature_2m_min', 'temperature_2m_mean', \n",
    "    'precipitation_sum', 'rain_sum', 'wind_speed_10m_max', 'wind_gusts_10m_max',\n",
    "    'wind_direction_10m_dominant'\n",
    "]\n",
    "\n",
    "scaler = StandardScaler()\n",
    "scaled_weather_features_np = scaler.fit_transform(weather_features_df[SCALED_WEATHER_FEATURES])\n",
    "scaled_weather_features_df = pd.DataFrame(scaled_weather_features_np, columns=SCALED_WEATHER_FEATURES)\n",
    "print(scaled_weather_features_df.shape)\n",
    "scaled_weather_features_df.head()\n"
   ]
  },
  {
   "cell_type": "code",
   "execution_count": null,
   "metadata": {},
   "outputs": [],
   "source": [
    "scaled_weather_features_df = pd.concat([\n",
    "    scaled_weather_features_df,\n",
    "    weather_features_df[['finishing_position', 'finish_time_s', 'race_speed']]\n",
    "], axis=1)\n",
    "\n",
    "print(scaled_weather_features_df.shape)\n",
    "scaled_weather_features_df.head()\n"
   ]
  },
  {
   "cell_type": "code",
   "execution_count": null,
   "metadata": {},
   "outputs": [],
   "source": [
    "fig = px.imshow(\n",
    "    scaled_weather_features_df.corr(),\n",
    "    labels=dict(color=\"Correlation\")\n",
    ")\n",
    "\n",
    "fig.update_layout(\n",
    "    title=\"Correlation Heatmap\",\n",
    ")\n",
    "\n",
    "fig.show()\n"
   ]
  },
  {
   "cell_type": "code",
   "execution_count": null,
   "metadata": {},
   "outputs": [],
   "source": []
  },
  {
   "cell_type": "code",
   "execution_count": null,
   "metadata": {},
   "outputs": [],
   "source": []
  },
  {
   "cell_type": "markdown",
   "metadata": {},
   "source": [
    "### Analysing Race Features"
   ]
  },
  {
   "cell_type": "code",
   "execution_count": null,
   "metadata": {},
   "outputs": [],
   "source": [
    "RACE_FEATURES = [\n",
    "    'race_distance', 'additional_weight', 'proportion_of_additional_weight', \n",
    "    'horse_number', 'draw', 'finishing_position', 'finish_time_s', 'race_speed'\n",
    "]\n",
    "\n",
    "RACE_CAT_FEATURES = [\n",
    "    'race_course', 'race_class', 'track_condition', 'track', 'horse_number', 'draw',\n",
    "    'finishing_position', 'finish_time_s', 'race_speed'\n",
    "]\n",
    "\n",
    "race_features_df = agg_race_df[RACE_FEATURES]\n",
    "print(race_features_df.shape)\n",
    "race_features_df.head()\n"
   ]
  },
  {
   "cell_type": "code",
   "execution_count": null,
   "metadata": {},
   "outputs": [],
   "source": [
    "race_cat_features_df = agg_race_df[RACE_CAT_FEATURES]\n",
    "print(race_features_df.shape)\n",
    "race_features_df.head()\n"
   ]
  },
  {
   "cell_type": "code",
   "execution_count": null,
   "metadata": {},
   "outputs": [],
   "source": [
    "fig = px.imshow(\n",
    "    race_features_df.corr(),\n",
    "    labels=dict(color=\"Correlation\")\n",
    ")\n",
    "\n",
    "fig.update_layout(\n",
    "    title=\"Correlation Heatmap\",\n",
    ")\n",
    "\n",
    "fig.show()\n"
   ]
  },
  {
   "cell_type": "code",
   "execution_count": null,
   "metadata": {},
   "outputs": [],
   "source": [
    "SCALED_RACE_FEATURES = [\n",
    "    'race_distance', 'additional_weight', 'proportion_of_additional_weight',\n",
    "]\n",
    "\n",
    "scaler = StandardScaler()\n",
    "scaled_race_features_np = scaler.fit_transform(race_features_df[SCALED_RACE_FEATURES])\n",
    "scaled_race_features_df = pd.DataFrame(scaled_race_features_np, columns=FEATURES)\n",
    "scaled_race_features_df.head()\n"
   ]
  },
  {
   "cell_type": "code",
   "execution_count": null,
   "metadata": {},
   "outputs": [],
   "source": [
    "fig = px.imshow(\n",
    "    scaled_race_features_df.corr(),\n",
    "    labels=dict(color=\"Correlation\")\n",
    ")\n",
    "\n",
    "fig.update_layout(\n",
    "    title=\"Correlation Heatmap\",\n",
    ")\n",
    "\n",
    "fig.show()\n"
   ]
  },
  {
   "cell_type": "markdown",
   "metadata": {},
   "source": [
    "### Analysing categorical race features"
   ]
  },
  {
   "cell_type": "code",
   "execution_count": null,
   "metadata": {},
   "outputs": [],
   "source": [
    "race_cat_winner_df = race_cat_features_df[race_cat_features_df['finishing_position'] == 1]\n",
    "print(race_cat_winner_df.shape)\n",
    "race_cat_winner_df.head()\n"
   ]
  },
  {
   "cell_type": "code",
   "execution_count": null,
   "metadata": {},
   "outputs": [],
   "source": [
    "draw_count = race_cat_winner_df['draw'].value_counts()\n",
    "draw_count_df = pd.DataFrame(draw_count).reset_index()\n",
    "draw_count_df.columns = ['draw', 'wins']\n",
    "\n",
    "fig = px.bar(\n",
    "    draw_count_df, x='draw', y='wins',\n",
    "    title='Wins by Draw Position',\n",
    ")\n",
    "fig.show()\n"
   ]
  },
  {
   "cell_type": "code",
   "execution_count": null,
   "metadata": {},
   "outputs": [],
   "source": [
    "total_draw_count = race_cat_features_df['draw'].value_counts()\n",
    "win_count = race_cat_winner_df['draw'].value_counts()\n",
    "win_percentage = (win_count / total_draw_count)\n",
    "win_percentage_df = pd.DataFrame(win_percentage).reset_index()\n",
    "win_percentage_df.columns = ['draw', 'win_percentage']\n",
    "\n",
    "fig = px.bar(\n",
    "    win_percentage_df, x='draw', y='win_percentage',\n",
    "    title='Probability of Winning given a Draw Position',\n",
    ")\n",
    "\n",
    "fig.show()\n"
   ]
  },
  {
   "cell_type": "code",
   "execution_count": null,
   "metadata": {},
   "outputs": [],
   "source": [
    "horse_number_count = race_cat_winner_df['horse_number'].value_counts()\n",
    "horse_number_count_df = pd.DataFrame(horse_number_count).reset_index()\n",
    "horse_number_count_df.columns = ['horse_number', 'wins']\n",
    "\n",
    "fig = px.bar(\n",
    "    horse_number_count_df, x='horse_number', y='wins',\n",
    "    title='Wins by Horse Number',\n",
    ")\n",
    "fig.show()\n"
   ]
  },
  {
   "cell_type": "code",
   "execution_count": null,
   "metadata": {},
   "outputs": [],
   "source": [
    "total_horse_number_count = race_cat_features_df['horse_number'].value_counts()\n",
    "win_count = race_cat_winner_df['horse_number'].value_counts()\n",
    "win_percentage = (win_count / total_horse_number_count)\n",
    "win_percentage_df = pd.DataFrame(win_percentage).reset_index()\n",
    "win_percentage_df.columns = ['horse_number', 'win_percentage']\n",
    "\n",
    "fig = px.bar(\n",
    "    win_percentage_df, x='horse_number', y='win_percentage',\n",
    "    title='Probability of Winning given a Horse Number',\n",
    ")\n",
    "fig.show()\n"
   ]
  },
  {
   "cell_type": "code",
   "execution_count": null,
   "metadata": {},
   "outputs": [],
   "source": [
    "fig = px.box(\n",
    "    race_cat_features_df, x='race_class', y='finish_time_s', \n",
    "    title='Finish Time Distribution for Different Race Classes'\n",
    ")\n",
    "\n",
    "fig.show()\n"
   ]
  },
  {
   "cell_type": "code",
   "execution_count": null,
   "metadata": {},
   "outputs": [],
   "source": [
    "fig = px.box(\n",
    "    race_cat_features_df, x='track', y='finish_time_s', \n",
    "    title='Finish Time Distribution for Different Tracks'\n",
    ")\n",
    "\n",
    "fig.show()\n"
   ]
  },
  {
   "cell_type": "code",
   "execution_count": null,
   "metadata": {},
   "outputs": [],
   "source": [
    "fig = px.box(\n",
    "    race_cat_features_df, x='track_condition', y='finish_time_s', \n",
    "    title='Finish Time Distribution for Different Track Conditions'\n",
    ")\n",
    "\n",
    "fig.show()\n"
   ]
  },
  {
   "cell_type": "code",
   "execution_count": null,
   "metadata": {},
   "outputs": [],
   "source": [
    "def interpret_track_widths(row):\n",
    "    if row['race_course'] == 'Sha Tin':\n",
    "        return interpret_sha_tin_track_widths(row['track'])\n",
    "    elif row['race_course'] == 'Happy Valley':\n",
    "        return interpret_happy_valley_track_widths(row['track'])\n",
    "\n",
    "def interpret_sha_tin_track_widths(row):\n",
    "    if row == 'TURF - \"A\" COURSE':\n",
    "        return 30.5\n",
    "    elif row == 'TURF - \"A+3\" COURSE':\n",
    "        return 27.5\n",
    "    elif row == 'TURF - \"B\" COURSE':\n",
    "        return 26\n",
    "    elif row == 'TURF - \"B+2\" COURSE':\n",
    "        return 24\n",
    "    elif row == 'TURF - \"C\" COURSE':\n",
    "        return 21.3\n",
    "    elif row == 'TURF - \"C+3\" COURSE':\n",
    "        return 18.3\n",
    "    elif row == 'ALL WEATHER TRACK':\n",
    "        return 22.8\n",
    "\n",
    "def interpret_happy_valley_track_widths(row):\n",
    "    if row == 'TURF - \"A\" COURSE':\n",
    "        return 30.5\n",
    "    elif row == 'TURF - \"A+3\" COURSE':\n",
    "        return 27.5\n",
    "    elif row == 'TURF - \"B\" COURSE':\n",
    "        return 26.5\n",
    "    elif row == 'TURF - \"B+2\" COURSE':\n",
    "        return 24.5\n",
    "    elif row == 'TURF - \"C\" COURSE':\n",
    "        return 22.5\n",
    "    elif row == 'TURF - \"C+3\" COURSE':\n",
    "        return 19.5\n",
    "\n",
    "race_cat_features_df['track_width'] = race_cat_features_df.apply(interpret_track_widths, axis=1)\n",
    "race_cat_features_df.head()\n"
   ]
  },
  {
   "cell_type": "code",
   "execution_count": null,
   "metadata": {},
   "outputs": [],
   "source": [
    "def interpret_track_conditions(row):\n",
    "    if row['track'] == 'ALL WEATHER TRACK':\n",
    "        return interpret_all_weather_track_conditions(row['track_condition'])\n",
    "    else:\n",
    "        return interpret_turf_track_conditions(row['track_condition'])\n",
    "\n",
    "def interpret_turf_track_conditions(row):\n",
    "    if row == 'GOOD TO FIRM':\n",
    "        return 2.5\n",
    "    elif row == 'GOOD':\n",
    "        return 2.75\n",
    "    elif row == 'GOOD TO YIELDING':\n",
    "        return 3\n",
    "    elif row == 'YIELDING':\n",
    "        return 3.25\n",
    "    elif row in {'YIELDING TO SOFT', 'SOFT'}:\n",
    "        return 3.5\n",
    "\n",
    "def interpret_all_weather_track_conditions(row):\n",
    "    if row == 'FAST':\n",
    "        return 2.5\n",
    "    elif row == 'GOOD':\n",
    "        return 2.75\n",
    "    elif row == 'WET FAST':\n",
    "        return 3.25\n",
    "    elif row in 'WET SLOW':\n",
    "        return 3.5\n",
    "\n",
    "race_cat_features_df['track_moisture'] = race_cat_features_df.apply(interpret_track_conditions, axis=1)\n",
    "race_cat_features_df.head()\n"
   ]
  },
  {
   "cell_type": "code",
   "execution_count": null,
   "metadata": {},
   "outputs": [],
   "source": [
    "race_cat_features_df[['track_width', 'track_moisture']].isna().sum()\n"
   ]
  },
  {
   "cell_type": "code",
   "execution_count": null,
   "metadata": {},
   "outputs": [],
   "source": [
    "fig = px.imshow(\n",
    "    race_cat_features_df[['track_width', 'track_moisture', 'finishing_position', 'finish_time_s', 'race_speed']].corr(),\n",
    "    labels=dict(color=\"Correlation\")\n",
    ")\n",
    "\n",
    "fig.update_layout(\n",
    "    title=\"Correlation Heatmap\",\n",
    ")\n",
    "\n",
    "fig.show()\n"
   ]
  },
  {
   "cell_type": "code",
   "execution_count": null,
   "metadata": {},
   "outputs": [],
   "source": [
    "scaler = StandardScaler()\n",
    "scaled_race_cat_features_np = scaler.fit_transform(race_cat_features_df[['track_width', 'track_moisture']])\n",
    "scaled_race_cat_features_df = pd.DataFrame(scaled_race_cat_features_np, columns=['track_width', 'track_moisture'])\n",
    "scaled_race_cat_features_df.head()\n"
   ]
  },
  {
   "cell_type": "code",
   "execution_count": null,
   "metadata": {},
   "outputs": [],
   "source": [
    "scaled_race_cat_features_df = pd.concat([\n",
    "    scaled_race_cat_features_df,\n",
    "    race_cat_features_df[['finishing_position', 'finish_time_s', 'race_speed']]\n",
    "], axis=1)\n",
    "\n",
    "fig = px.imshow(\n",
    "    scaled_race_cat_features_df.corr(),\n",
    "    labels=dict(color=\"Correlation\")\n",
    ")\n",
    "\n",
    "fig.update_layout(\n",
    "    title=\"Correlation Heatmap\",\n",
    ")\n",
    "\n",
    "fig.show()\n"
   ]
  },
  {
   "cell_type": "code",
   "execution_count": null,
   "metadata": {},
   "outputs": [],
   "source": []
  },
  {
   "cell_type": "markdown",
   "metadata": {},
   "source": [
    "### Clustering similar value classes for categorical race features based on conditional probability"
   ]
  },
  {
   "cell_type": "code",
   "execution_count": null,
   "metadata": {},
   "outputs": [],
   "source": [
    "def segment_draw(row):\n",
    "    if row <= 4:\n",
    "        return 1\n",
    "    elif row <= 8:\n",
    "        return 2\n",
    "    else:\n",
    "        return 3\n",
    "\n",
    "race_features_df['draw_segments'] = race_features_df['draw'].apply(segment_draw)\n",
    "\n",
    "total_draw_count = race_features_df['draw_segments'].value_counts()\n",
    "win_count = race_features_df[race_features_df['finishing_position'] == 1]['draw_segments'].value_counts()\n",
    "win_percentage = (win_count / total_draw_count)\n",
    "win_percentage_df = pd.DataFrame(win_percentage).reset_index()\n",
    "win_percentage_df.columns = ['draw_segments', 'win_percentage']\n",
    "\n",
    "fig = px.bar(\n",
    "    win_percentage_df, x='draw_segments', y='win_percentage',\n",
    "    title='Probability of Winning given a Draw Position by Segment',\n",
    ")\n",
    "fig.show()\n"
   ]
  },
  {
   "cell_type": "code",
   "execution_count": null,
   "metadata": {},
   "outputs": [],
   "source": [
    "def segment_horse_number(row):\n",
    "    if row <= 4:\n",
    "        return 1\n",
    "    elif row <= 8:\n",
    "        return 2\n",
    "    else:\n",
    "        return 3\n",
    "\n",
    "race_features_df['horse_number_segments'] = race_features_df['horse_number'].apply(segment_horse_number)\n",
    "\n",
    "total_horse_number_count = race_features_df['horse_number_segments'].value_counts()\n",
    "win_count = race_features_df[race_features_df['finishing_position'] == 1]['horse_number_segments'].value_counts()\n",
    "win_percentage = (win_count / total_horse_number_count)\n",
    "win_percentage_df = pd.DataFrame(win_percentage).reset_index()\n",
    "win_percentage_df.columns = ['horse_number_segments', 'win_percentage']\n",
    "\n",
    "fig = px.bar(\n",
    "    win_percentage_df, x='horse_number_segments', y='win_percentage',\n",
    "    title='Probability of Winning given a Horse Number by Segment',\n",
    ")\n",
    "fig.show()\n"
   ]
  },
  {
   "cell_type": "code",
   "execution_count": null,
   "metadata": {},
   "outputs": [],
   "source": []
  },
  {
   "cell_type": "markdown",
   "metadata": {},
   "source": [
    "### Analysing Horse Features"
   ]
  },
  {
   "cell_type": "code",
   "execution_count": null,
   "metadata": {},
   "outputs": [],
   "source": [
    "HORSE_FEATURES = [\n",
    "    'country', 'colour', 'sex', 'import_type', 'total_stakes', 'wins', \n",
    "    'places', 'total_races', 'win_freq', 'place_freq', 'average_rating', \n",
    "    'average_placing', 'average_race_class', 'average_speed', \n",
    "    'finishing_position', 'finish_time_s', 'race_speed'\n",
    "]\n",
    "\n",
    "horse_features_df = agg_race_df[HORSE_FEATURES]\n",
    "print(horse_features_df.shape)\n",
    "horse_features_df.head()\n"
   ]
  },
  {
   "cell_type": "code",
   "execution_count": null,
   "metadata": {},
   "outputs": [],
   "source": [
    "horse_winner_df = horse_features_df[horse_features_df['finishing_position'] == 1]\n",
    "horse_winner_df.reset_index(drop=True, inplace=True)\n",
    "print(horse_winner_df.shape)\n",
    "horse_winner_df.head()\n"
   ]
  },
  {
   "cell_type": "code",
   "execution_count": null,
   "metadata": {},
   "outputs": [],
   "source": [
    "country_count = horse_winner_df['country'].value_counts()\n",
    "country_count_df = pd.DataFrame(country_count).reset_index()\n",
    "country_count_df.columns = ['country', 'wins']\n",
    "\n",
    "fig = px.bar(\n",
    "    country_count_df, x='country', y='wins',\n",
    "    title='Wins by Country',\n",
    ")\n",
    "\n",
    "fig.show()\n"
   ]
  },
  {
   "cell_type": "code",
   "execution_count": null,
   "metadata": {},
   "outputs": [],
   "source": [
    "total_country_count = horse_features_df['country'].value_counts()\n",
    "win_percentage = (country_count / total_country_count)\n",
    "win_percentage_df = pd.DataFrame(win_percentage).reset_index()\n",
    "win_percentage_df.columns = ['country', 'win_percentage']\n",
    "\n",
    "win_percentage_df_sorted = win_percentage_df.sort_values(by='win_percentage')\n",
    "fig = px.bar(\n",
    "    win_percentage_df_sorted, x='country', y='win_percentage',\n",
    "    title='Probability of Winning given a Country',\n",
    ")\n",
    "\n",
    "fig.show()\n"
   ]
  },
  {
   "cell_type": "code",
   "execution_count": null,
   "metadata": {},
   "outputs": [],
   "source": [
    "gender_count = horse_winner_df['gender'].value_counts()\n",
    "gender_count_df = pd.DataFrame(gender_count).reset_index()\n",
    "gender_count_df.columns = ['gender', 'wins']\n",
    "\n",
    "fig = px.bar(\n",
    "    sex_count_df, x='gender', y='wins',\n",
    "    title='Wins by Gender',\n",
    ")\n",
    "\n",
    "fig.show()\n"
   ]
  },
  {
   "cell_type": "code",
   "execution_count": null,
   "metadata": {},
   "outputs": [],
   "source": [
    "total_gender_count = horse_features_df['gender'].value_counts()\n",
    "win_percentage = (gender_count / total_gender_count)\n",
    "win_percentage_df = pd.DataFrame(win_percentage).reset_index()\n",
    "win_percentage_df.columns = ['gender', 'win_percentage']\n",
    "\n",
    "win_percentage_df_sorted = win_percentage_df.sort_values(by='win_percentage')\n",
    "fig = px.bar(\n",
    "    win_percentage_df_sorted, x='gender', y='win_percentage',\n",
    "    title='Probability of Winning given a Gender',\n",
    ")\n",
    "\n",
    "fig.show()\n"
   ]
  },
  {
   "cell_type": "code",
   "execution_count": null,
   "metadata": {},
   "outputs": [],
   "source": [
    "colour_count = horse_winner_df['colour'].value_counts()\n",
    "colour_count_df = pd.DataFrame(colour_count).reset_index()\n",
    "colour_count_df.columns = ['colour', 'wins']\n",
    "\n",
    "fig = px.bar(\n",
    "    colour_count_df, x='colour', y='wins',\n",
    "    title='Wins by Colour',\n",
    ")\n",
    "\n",
    "fig.show()\n"
   ]
  },
  {
   "cell_type": "code",
   "execution_count": null,
   "metadata": {},
   "outputs": [],
   "source": [
    "total_colour_count = horse_features_df['colour'].value_counts()\n",
    "win_percentage = (colour_count / total_colour_count)\n",
    "win_percentage_df = pd.DataFrame(win_percentage).reset_index()\n",
    "win_percentage_df.columns = ['colour', 'win_percentage']\n",
    "\n",
    "win_percentage_df_sorted = win_percentage_df.sort_values(by='win_percentage')\n",
    "fig = px.bar(\n",
    "    win_percentage_df_sorted, x='colour', y='win_percentage',\n",
    "    title='Probability of Winning given a Colour',\n",
    ")\n",
    "fig.show()\n"
   ]
  },
  {
   "cell_type": "markdown",
   "metadata": {},
   "source": [
    "### Clustering similar value classes for categorical horse features based on conditional probability"
   ]
  },
  {
   "cell_type": "code",
   "execution_count": null,
   "metadata": {},
   "outputs": [],
   "source": [
    "def segment_colour(row):\n",
    "    if row == 'Dark Bay':\n",
    "        return 4\n",
    "    elif row == 'Black':\n",
    "        return 3\n",
    "    elif row == 'Grey':\n",
    "        return 1\n",
    "    else:\n",
    "        return 2\n",
    "\n",
    "def segment_sex(row):\n",
    "    if row == 'Horse':\n",
    "        return 4\n",
    "    elif row == 'Gelding':\n",
    "        return 3\n",
    "    elif row == 'Mare':\n",
    "        return 2\n",
    "    else:\n",
    "        return 1\n",
    "\n",
    "def segment_country(row):\n",
    "    if row in {'AUS', 'NZ', 'SAF'}:\n",
    "        return 4\n",
    "    elif row in {'USA', 'GB', 'IRE'}:\n",
    "        return 3\n",
    "    elif row in {'ARG', 'GER', 'FR'}:\n",
    "        return 2\n",
    "    else:\n",
    "        return 1\n",
    "\n",
    "horse_features_df['colour_segment'] = horse_features_df['colour'].apply(segment_colour)\n",
    "horse_features_df['sex_segment'] = horse_features_df['sex'].apply(segment_sex)\n",
    "horse_features_df['country_segment'] = horse_features_df['country'].apply(segment_country)\n",
    "\n",
    "horse_features_df.head()\n"
   ]
  },
  {
   "cell_type": "code",
   "execution_count": null,
   "metadata": {},
   "outputs": [],
   "source": [
    "fig = px.imshow(\n",
    "    horse_features_df.corr(),\n",
    "    labels=dict(color=\"Correlation\")\n",
    ")\n",
    "\n",
    "fig.update_layout(\n",
    "    title=\"Correlation Heatmap\",\n",
    ")\n",
    "\n",
    "fig.show()\n"
   ]
  },
  {
   "cell_type": "code",
   "execution_count": null,
   "metadata": {},
   "outputs": [],
   "source": [
    "print(horse_features_df.shape)\n",
    "horse_features_df.columns\n"
   ]
  },
  {
   "cell_type": "markdown",
   "metadata": {},
   "source": [
    "### Scaling numerical horse features"
   ]
  },
  {
   "cell_type": "code",
   "execution_count": null,
   "metadata": {},
   "outputs": [],
   "source": [
    "SCALED_HORSE_FEATURES = [\n",
    "    'total_stakes', 'wins', 'places', 'total_races', \n",
    "    'win_freq', 'place_freq', 'average_rating',\n",
    "    'average_placing', 'average_race_class', 'average_speed'\n",
    "]\n",
    "\n",
    "scaler = StandardScaler()\n",
    "scaled_horse_features_np = scaler.fit_transform(horse_features_df[SCALED_HORSE_FEATURES])\n",
    "scaled_horse_features_df = pd.DataFrame(scaled_horse_features_np, columns=SCALED_HORSE_FEATURES)\n",
    "print(scaled_horse_features_df.shape)\n",
    "scaled_horse_features_df.head()\n"
   ]
  },
  {
   "cell_type": "code",
   "execution_count": null,
   "metadata": {},
   "outputs": [],
   "source": [
    "scaled_horse_features_df = pd.concat([\n",
    "    scaled_horse_features_df,\n",
    "    horse_features_df[['finishing_position', 'finish_time_s', 'race_speed']]\n",
    "], axis=1)\n",
    "\n",
    "print(scaled_horse_features_df.shape)\n",
    "scaled_horse_features_df.head()\n"
   ]
  },
  {
   "cell_type": "code",
   "execution_count": null,
   "metadata": {},
   "outputs": [],
   "source": [
    "fig = px.imshow(\n",
    "    scaled_horse_features_df.corr(),\n",
    "    labels=dict(color=\"Correlation\")\n",
    ")\n",
    "\n",
    "fig.update_layout(\n",
    "    title=\"Correlation Heatmap\",\n",
    ")\n",
    "\n",
    "fig.show()\n"
   ]
  },
  {
   "cell_type": "markdown",
   "metadata": {},
   "source": [
    "# Final Features"
   ]
  },
  {
   "cell_type": "code",
   "execution_count": null,
   "metadata": {},
   "outputs": [],
   "source": [
    "FINAL_SCALED_WEATHER_FEATURES = ['temperature_2m_max', 'wind_speed_10m_max']\n",
    "\n",
    "FINAL_RACE_FEATURES = ['draw_segments', 'horse_number_segments']\n",
    "FINAL_SCALED_RACE_CAT_FEATURES = ['track_width', 'track_moisture']\n",
    "FINAL_SCALED_RACE_FEATURES = [\n",
    "    'race_distance', 'proportion_of_additional_weight', 'track_width', 'track_moisture'\n",
    "]\n",
    "\n",
    "FINAL_HORSE_FEATURES = ['colour_segment', 'sex_segment', 'country_segment']\n",
    "FINAL_SCALED_HORSE_FEATURES = [\n",
    "    'total_stakes', 'win_freq', 'place_freq', 'average_placing', 'average_speed', \n",
    "    'average_rating', 'average_race_class'\n",
    "]\n",
    "\n",
    "OUTCOMES = ['finish_time_s', 'race_speed']\n"
   ]
  },
  {
   "cell_type": "code",
   "execution_count": null,
   "metadata": {},
   "outputs": [],
   "source": [
    "final_df = pd.concat([\n",
    "    scaled_weather_features_df[FINAL_SCALED_WEATHER_FEATURES],\n",
    "    race_features_df[FINAL_RACE_FEATURES],\n",
    "    scaled_race_cat_features[FINAL_SCALED_RACE_CAT_FEATURES],\n",
    "    scaled_race_features_df[FINAL_SCALED_RACE_FEATURES],\n",
    "    horse_features_df[FINAL_HORSE_FEATURES],\n",
    "    scaled_horse_features_df[FINAL_SCALED_HORSE_FEATURES],\n",
    "    agg_race_df[OUTCOMES]\n",
    "], axis=1)\n",
    "\n",
    "print(final_df.shape)\n",
    "final_df.head()\n"
   ]
  },
  {
   "cell_type": "code",
   "execution_count": null,
   "metadata": {},
   "outputs": [],
   "source": [
    "final_df.to_csv('final.csv', index=False)\n"
   ]
  },
  {
   "cell_type": "markdown",
   "metadata": {},
   "source": [
    "# Dimension Reduction using PCA"
   ]
  },
  {
   "cell_type": "code",
   "execution_count": null,
   "metadata": {},
   "outputs": [],
   "source": [
    "final_features_df = pd.concat([\n",
    "    scaled_weather_features_df[FINAL_WEATHER_FEATURES],\n",
    "    race_features_df[FINAL_RACE_FEATURES],\n",
    "    scaled_race_features_df[FINAL_SCALED_RACE_FEATURES],\n",
    "    horse_features_df[FINAL_HORSE_FEATURES],\n",
    "    scaled_horse_features_df[FINAL_SCALED_HORSE_FEATURES]\n",
    "], axis=1)\n"
   ]
  },
  {
   "cell_type": "code",
   "execution_count": null,
   "metadata": {},
   "outputs": [],
   "source": [
    "pca = PCA(n_components=3)\n",
    "transformed_data = pca.fit_transform(final_features_df)\n",
    "print(f\"Variance explained by each component: {pca.explained_variance_ratio_}\")\n",
    "\n",
    "pca_df = pd.DataFrame(transformed_data, columns=[\"PCA 1\", \"PCA 2\", \"PCA3\"])\n",
    "pca_df.head()\n"
   ]
  },
  {
   "cell_type": "code",
   "execution_count": null,
   "metadata": {},
   "outputs": [],
   "source": [
    "final_pca_df = pd.concat([\n",
    "    pca_df, \n",
    "    agg_race_df[OUTCOMES]\n",
    "], axis=1)\n",
    "\n",
    "final_pca_df.head()\n"
   ]
  },
  {
   "cell_type": "code",
   "execution_count": null,
   "metadata": {},
   "outputs": [],
   "source": [
    "fig = px.imshow(\n",
    "    final_pca_df.corr(),\n",
    "    labels=dict(color=\"Correlation\")\n",
    ")\n",
    "\n",
    "fig.update_layout(\n",
    "    title=\"Correlation Heatmap\",\n",
    ")\n",
    "\n",
    "fig.show()\n"
   ]
  },
  {
   "cell_type": "code",
   "execution_count": null,
   "metadata": {},
   "outputs": [],
   "source": [
    "final_pca_df.to_csv('pca.csv', index=False)\n"
   ]
  }
 ],
 "metadata": {
  "language_info": {
   "name": "python"
  }
 },
 "nbformat": 4,
 "nbformat_minor": 2
}
