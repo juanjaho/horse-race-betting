{
 "cells": [
  {
   "cell_type": "code",
   "execution_count": null,
   "metadata": {},
   "outputs": [],
   "source": [
    "import pandas as pd\n",
    "import numpy as np\n",
    "import requests\n"
   ]
  },
  {
   "cell_type": "code",
   "execution_count": null,
   "metadata": {},
   "outputs": [],
   "source": []
  },
  {
   "cell_type": "code",
   "execution_count": null,
   "metadata": {},
   "outputs": [],
   "source": [
    "race_result_race['race_date'] = pd.to_datetime(race_result_race['race_date'])\n",
    "earliest_race_date = race_result_race['race_date'].min().strftime('%Y-%m-%d')\n",
    "latest_race_date = race_result_race['race_date'].max().strftime('%Y-%m-%d')\n",
    "print(earliest_race_date, latest_race_date)\n"
   ]
  },
  {
   "cell_type": "code",
   "execution_count": null,
   "metadata": {},
   "outputs": [],
   "source": [
    "params = {\n",
    "\t\t\"latitude\": 22.302,\n",
    "\t\t\"longitude\": 114.177,\n",
    "\t\t\"start_date\": earliest_race_date,\n",
    "\t\t\"end_date\": latest_race_date,\n",
    "\t\t\"daily\": [\n",
    "\t\t\t\t\"temperature_2m_max\", \n",
    "\t\t\t\t\"temperature_2m_min\", \n",
    "\t\t\t\t\"temperature_2m_mean\", \n",
    "\t\t\t\t\"precipitation_sum\", \n",
    "\t\t\t\t\"rain_sum\", \n",
    "\t\t\t\t\"wind_speed_10m_max\", \n",
    "\t\t\t\t\"wind_gusts_10m_max\", \n",
    "\t\t\t\t\"wind_direction_10m_dominant\"\n",
    "\t\t],\n",
    "\t\t\"wind_speed_unit\": \"ms\",\n",
    "\t\t\"timezone\": \"Asia/Singapore\"\n",
    "}\n",
    "\n",
    "res = requests.get('https://archive-api.open-meteo.com/v1/archive', params=params)\n",
    "\n",
    "if res.status_code == 200:\n",
    "\t\tdata = res.json()\n",
    "\t\tweather_df = pd.DataFrame(data['daily'])\n",
    "\n",
    "else:\n",
    "\t\tprint(\"Failed to retrieve weather data. Status code:\", res.status_code)\n"
   ]
  },
  {
   "cell_type": "code",
   "execution_count": null,
   "metadata": {},
   "outputs": [],
   "source": [
    "print(weather_df.shape)\n",
    "weather_df.head()\n"
   ]
  },
  {
   "cell_type": "code",
   "execution_count": null,
   "metadata": {},
   "outputs": [],
   "source": [
    "weather_df['time'] = pd.to_datetime(weather_df['time'])\n",
    "weather_df = weather_df.rename(columns={'time':'race_date'})\n",
    "weather_df.head()\n"
   ]
  },
  {
   "cell_type": "code",
   "execution_count": null,
   "metadata": {},
   "outputs": [],
   "source": [
    "weather_df.to_csv('weather.csv', index=False)\n"
   ]
  },
  {
   "cell_type": "code",
   "execution_count": null,
   "metadata": {},
   "outputs": [],
   "source": []
  }
 ],
 "metadata": {
  "language_info": {
   "name": "python"
  }
 },
 "nbformat": 4,
 "nbformat_minor": 2
}
