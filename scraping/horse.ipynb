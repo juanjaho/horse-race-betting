{
 "cells": [
  {
   "cell_type": "code",
   "execution_count": null,
   "metadata": {},
   "outputs": [],
   "source": [
    "import pandas as pd\n",
    "import numpy as np\n",
    "import requests\n",
    "import os\n",
    "from bs4 import BeautifulSoup\n"
   ]
  },
  {
   "cell_type": "markdown",
   "metadata": {},
   "source": [
    "### Get all Horse IDs required"
   ]
  },
  {
   "cell_type": "code",
   "execution_count": null,
   "metadata": {},
   "outputs": [],
   "source": [
    "race_df = pd.read_csv('../preprocessing/preprocessed_races.csv')\n",
    "horse_ids = list(set(race_df['horse_id']))\n",
    "horse_ids.sort()\n",
    "len(horse_ids)\n"
   ]
  },
  {
   "cell_type": "markdown",
   "metadata": {},
   "source": [
    "# Scrapping Horse Data from SCMP"
   ]
  },
  {
   "cell_type": "code",
   "execution_count": null,
   "metadata": {},
   "outputs": [],
   "source": [
    "SCMP_BASE_URL = 'https://www.scmp.com/sport/racing/ajax/stats/HorseName/'\n",
    "\n",
    "horse_subpaths = []\n",
    "horse_id_name_map = {}\n",
    "\n",
    "for char in 'ABCDEFGHIJKLMNOPQRSTUVWXYZ':\n",
    "    url = f'{SCMP_BASE_URL}{char}'\n",
    "    resp = requests.get(url)\n",
    "    if resp.status_code == 200:\n",
    "        data = resp.json()['data']['result']\n",
    "        print(f\"Retrieved {len(data)} horses starting with {char}\")\n",
    "        for horse in data:\n",
    "            subpath = f\"{horse['horse_id']}/{horse['horse_name'].lower().replace(' ', '-')}\"\n",
    "            horse_subpaths.append(subpath)\n",
    "            horse_id_name_map[horse['horse_id']] = horse['horse_name']\n",
    "\n",
    "print(f\"Total {len(horse_subpaths)} horses\")\n"
   ]
  },
  {
   "cell_type": "code",
   "execution_count": null,
   "metadata": {},
   "outputs": [],
   "source": [
    "SCMP_HORSES_BASE_URL = 'https://www.scmp.com/sport/racing/stats/horses'\n",
    "\n",
    "SCMP_RACE_TABLE = [\n",
    "    'date', 'race_number', 'track', 'distance', 'cl', \n",
    "    'rank', 'trainer', 'weight', 'jockey', 'dr', 'gr', \n",
    "    'winner', 'second', 'third', 'win_time', 'last_qtr', \n",
    "    'section_time', 'in_running', 'w/m', 'horse_weight', \n",
    "    'rt', 'odds_on', 'odds_last'\n",
    "]\n",
    "\n",
    "SCMP_HORSE_DETAILS = [\n",
    "    'import_type', 'colour', 'sex', 'age', 'country', \n",
    "    'owner', 'last_win', 'health', 'bloodline_relations', \n",
    "    'sire', 'dam'\n",
    "]\n",
    "\n",
    "SCMP_RACE_TABLE_DIR = 'scmp/race_table'\n",
    "SCMP_HORSE_DETAILS_DIR = 'scmp/horse_details'\n"
   ]
  },
  {
   "cell_type": "code",
   "execution_count": null,
   "metadata": {},
   "outputs": [],
   "source": [
    "failed = []\n",
    "\n",
    "def scrape_scmp_horses(subpaths):\n",
    "    for subpath in subpaths:\n",
    "        horse_id = subpath.split('/')[0]\n",
    "        resp = requests.get(f'{SCMP_HORSES_BASE_URL}/{subpath}')\n",
    "\n",
    "        if resp.status_code == 200:\n",
    "            print(f\"Processing {subpath}\")\n",
    "            soup = BeautifulSoup(resp.content, 'html.parser')\n",
    "\n",
    "            race_table_element = soup.find('tbody')\n",
    "            if race_table_element:\n",
    "                race_table_data = []\n",
    "                for row in race_table_element.find_all('tr'):\n",
    "                    race_table_data.append([cell.get_text(strip=True) for cell in row.find_all('td')])\n",
    "\n",
    "                race_table_df = pd.DataFrame(race_table_data, columns=SCMP_RACE_TABLE)\n",
    "                race_table_df.to_csv(f'{SCMP_RACE_TABLE_DIR}/{horse_id}.csv', index=False)\n",
    "\n",
    "            else:\n",
    "                failed.append((subpath, SCMP_RACE_TABLE_DIR))\n",
    "\n",
    "            horse_details_element = soup.find('div', class_='details')\n",
    "            if horse_details_element:\n",
    "                horse_details = []\n",
    "                for detail in horse_details_element.find_all('b'):\n",
    "                    if detail.contents[0] == 'Import Type / Colour / Sex / Age / Country of Origin: ':\n",
    "                        for d in detail.next_sibling.split('/'):\n",
    "                            horse_details.append(d.strip())\n",
    "                    else:\n",
    "                        horse_details.append(detail.next_sibling.strip())\n",
    "\n",
    "                horse_details_df = pd.DataFrame([horse_details], columns=SCMP_HORSE_DETAILS)\n",
    "                horse_details_df.to_csv(f'{SCMP_HORSE_DETAILS_DIR}/{horse_id}.csv', index=False)\n",
    "            else:\n",
    "                failed.append((subpath, SCMP_HORSE_DETAILS_DIR))\n"
   ]
  },
  {
   "cell_type": "code",
   "execution_count": null,
   "metadata": {},
   "outputs": [],
   "source": [
    "# scrape_scmp_horses(horse_subpaths)\n"
   ]
  },
  {
   "cell_type": "markdown",
   "metadata": {},
   "source": [
    "### Checking Failed Scraping Subpaths"
   ]
  },
  {
   "cell_type": "code",
   "execution_count": null,
   "metadata": {},
   "outputs": [],
   "source": [
    "print(len(failed))\n",
    "failed\n"
   ]
  },
  {
   "cell_type": "markdown",
   "metadata": {},
   "source": [
    "### Preprocessing SCMP Horse Data"
   ]
  },
  {
   "cell_type": "code",
   "execution_count": null,
   "metadata": {},
   "outputs": [],
   "source": [
    "scmp_horse_details_df = pd.DataFrame()\n",
    "\n",
    "for scmp_horse in os.listdir(SCMP_HORSE_DETAILS_DIR):\n",
    "    scmp_horse_id = scmp_horse.split('.')[0]\n",
    "    scmp_horse_df = pd.read_csv(f'{SCMP_HORSE_DETAILS_DIR}/{scmp_horse}')\n",
    "\n",
    "    scmp_horse_df['horse_id'] = scmp_horse_id\n",
    "    scmp_horse_df['age'] = scmp_horse_df['age'].apply(lambda x: int(x.split()[0]))\n",
    "    scmp_horse_details_df = pd.concat([scmp_horse_details_df, scmp_horse_df])\n",
    "    print(f\"Processed {horse_id}\")\n"
   ]
  },
  {
   "cell_type": "code",
   "execution_count": null,
   "metadata": {},
   "outputs": [],
   "source": [
    "print(scmp_horse_details_df.shape)\n",
    "scmp_horse_details_df.head()\n"
   ]
  },
  {
   "cell_type": "code",
   "execution_count": null,
   "metadata": {},
   "outputs": [],
   "source": [
    "SCMP_RACE_TABLE_COLS = [\n",
    "    'horse_id', 'win_freq', 'place_freq', 'average_race_rank', \n",
    "    'average_horse_weight', 'average_total_weight', 'latest_horse_rating', \n",
    "    'latest_horse_class', 'average_speed', 'average_winner_speed_diff'\n",
    "]\n",
    "\n",
    "scmp_race_results_df = pd.DataFrame(columns=SCMP_RACE_TABLE_COLS)\n",
    "\n",
    "def time_to_seconds(time_str):\n",
    "    time_str = time_str.replace('.', ':')\n",
    "    parts = time_str.split(':')\n",
    "    return int(parts[0]) * 60 + int(parts[1])\n",
    "\n",
    "for scmp_race in os.listdir(SCMP_RACE_TABLE_DIR):\n",
    "    scmp_horse_id = scmp_race.split('.')[0]\n",
    "    scmp_race_df = pd.read_csv(f'{SCMP_RACE_TABLE_DIR}/{scmp_race}')\n",
    "    print(f\"Processing {scmp_horse_id}\")\n",
    "\n",
    "    average_horse_weight = pd.to_numeric(scmp_race_df['weight'], errors='coerce', downcast='float').mean()\n",
    "    average_total_weight = pd.to_numeric(scmp_race_df['horse_weight'], errors='coerce', downcast='float').mean()\n",
    "\n",
    "    latest_horse_rating = scmp_race_df['rt'].iloc[0]\n",
    "    latest_horse_class = scmp_race_df['cl'].iloc[0]\n",
    "\n",
    "    scmp_race_df['section_time'] = scmp_race_df['section_time'].astype(str)\n",
    "    scmp_race_df['total_time'] = scmp_race_df['section_time'].apply(lambda x: sum([float(t) for t in x.split()]))\n",
    "\n",
    "    scmp_race_df.dropna(inplace=True)\n",
    "\n",
    "    scmp_race_df['average_speed'] = scmp_race_df['distance'] / scmp_race_df['total_time']\n",
    "    scmp_race_df['winner_speed'] = scmp_race_df['distance'] / scmp_race_df['win_time'].apply(time_to_seconds)\n",
    "    scmp_race_df['winner_speed_diff'] = scmp_race_df['winner_speed'] - scmp_race_df['average_speed']\n",
    "    average_speed = scmp_race_df['average_speed'].mean()\n",
    "    average_winner_speed_diff = scmp_race_df['winner_speed_diff'].mean()\n",
    "\n",
    "    total_rows = scmp_race_df['winner'].count()\n",
    "    win_freq = (scmp_race_df['winner'] == horse_id_name_map[scmp_horse_id]).sum() / total_rows\n",
    "    place = (scmp_race_df['winner'] == horse_id_name_map[scmp_horse_id]) | (scmp_race_df['second'] == horse_id_name_map[scmp_horse_id]) | (scmp_race_df['third'] == horse_id_name_map[scmp_horse_id])\n",
    "    place_freq = place.sum() / total_rows\n",
    "\n",
    "    average_race_rank = pd.to_numeric(scmp_race_df['rank'], errors='coerce').mean()\n",
    "\n",
    "    row = [scmp_horse_id, win_freq, place_freq, average_race_rank, average_horse_weight, average_total_weight, latest_horse_rating, latest_horse_class, average_speed, average_winner_speed_diff]\n",
    "    scmp_race_results_df = scmp_race_results_df.append(pd.Series(row, index=scmp_race_results_df.columns), ignore_index=True)\n"
   ]
  },
  {
   "cell_type": "code",
   "execution_count": null,
   "metadata": {},
   "outputs": [],
   "source": [
    "print(scmp_race_results_df.shape)\n",
    "scmp_race_results_df.head()\n"
   ]
  },
  {
   "cell_type": "markdown",
   "metadata": {},
   "source": [
    "### Joining Horse Details with Aggregated Horse Race Performance data"
   ]
  },
  {
   "cell_type": "code",
   "execution_count": null,
   "metadata": {},
   "outputs": [],
   "source": [
    "scmp_horses_df = scmp_horse_details_df.set_index('horse_id').join(scmp_race_results_df.set_index('horse_id'), how='inner').reset_index()\n",
    "print(scmp_horses_df.shape)\n",
    "scmp_horses_df.head()\n"
   ]
  },
  {
   "cell_type": "code",
   "execution_count": null,
   "metadata": {},
   "outputs": [],
   "source": [
    "scmp_horses_df.isna().sum()\n"
   ]
  },
  {
   "cell_type": "code",
   "execution_count": null,
   "metadata": {},
   "outputs": [],
   "source": [
    "scmp_horses_df.dropna(inplace=True)\n",
    "scmp_horses_df.reset_index(drop=True, inplace=True)\n",
    "print(scmp_horses_df.shape)\n",
    "scmp_horses_df.head()\n"
   ]
  },
  {
   "cell_type": "code",
   "execution_count": null,
   "metadata": {},
   "outputs": [],
   "source": [
    "scmp_missing_horse_ids = set(race_df['horse_id']) - set(scmp_horses_df['horse_id'])\n",
    "print(len(scmp_missing_horse_ids))\n"
   ]
  },
  {
   "cell_type": "code",
   "execution_count": null,
   "metadata": {},
   "outputs": [],
   "source": [
    "scmp_horses_df.to_csv('scmp_horses.csv', index=False)\n"
   ]
  },
  {
   "cell_type": "markdown",
   "metadata": {},
   "source": [
    "# Scrapping Horse Data from HKJC"
   ]
  },
  {
   "cell_type": "code",
   "execution_count": null,
   "metadata": {},
   "outputs": [],
   "source": [
    "HKJC_HORSES_BASE_URL = 'http://www.hkjc.com/english/racing/horse.asp?HorseNo='\n",
    "\n",
    "HKJC_HORSE_PROFILE_DIR = 'hkjc/horse_profile'\n",
    "HKJC_RACE_RESULTS_DIR = 'hkjc/race_results'\n"
   ]
  },
  {
   "cell_type": "code",
   "execution_count": null,
   "metadata": {},
   "outputs": [],
   "source": [
    "def scrape_hkjc_horses(ids):\n",
    "    horse_id = ids[i]\n",
    "    resp = requests.get(f'{HKJC_HORSES_BASE_URL}{horse_id}')\n",
    "\n",
    "    if resp.status_code == 200:\n",
    "        print(f\"Processing {horse_id}\")\n",
    "        soup = BeautifulSoup(resp.content, 'html.parser')\n",
    "\n",
    "        horse_profile_table = soup.find('table', class_='horseProfile')\n",
    "        if horse_profile_table:\n",
    "            horse_profile_data = {}\n",
    "            table_body = horse_profile_table.find_all('tbody')\n",
    "\n",
    "            title = table_body[1].find('span', class_='title_text').get_text()\n",
    "            horse_name = title.split(' ')[0]\n",
    "            horse_profile_data['horse_name'] = horse_name\n",
    "\n",
    "            for tbody in table_body[3:]:\n",
    "                for row in tbody.find_all('tr'):\n",
    "                    cells = row.find_all('td')\n",
    "                    tmp = \"\"\n",
    "                    for cell in cells:\n",
    "                        tmp += cell.get_text().strip()\n",
    "                    if tmp and tmp.split(\":\"):\n",
    "                        k,v = tmp.split(\":\")\n",
    "                        horse_profile_data[k] = v\n",
    "\n",
    "            horse_profile_df = pd.DataFrame([horse_profile_data])\n",
    "            horse_profile_df.to_csv(f'{HKJC_HORSE_PROFILE_DIR}/{horse_id}.csv', index=False)\n",
    "\n",
    "        horse_race_results_table = soup.find('table', class_='bigborder')\n",
    "        if horse_race_results_table:\n",
    "            headers = [header.get_text() for header in horse_race_results_table.find_all('tr')[0].find_all('td')[:-1]]\n",
    "\n",
    "            race_results = []\n",
    "            for row in horse_race_results_table.find_all('tr')[1:]:\n",
    "                cells = row.find_all('td')\n",
    "                if len(cells) == 1 and \"Season\" in cells[0].get_text():\n",
    "                    continue\n",
    "\n",
    "                race_results.append([cell.get_text().strip() for cell in cells[:-2]])\n",
    "\n",
    "            if race_results and race_results[0]:\n",
    "                race_results_df = pd.DataFrame(race_results, columns=headers)\n",
    "                race_results_df.dropna(inplace=True)\n",
    "                race_results_df.to_csv(f'{HKJC_RACE_RESULTS_DIR}/{horse_id}.csv', index=False)\n",
    "\n"
   ]
  },
  {
   "cell_type": "code",
   "execution_count": null,
   "metadata": {},
   "outputs": [],
   "source": [
    "scrape_hkjc_horses(horse_ids)\n"
   ]
  },
  {
   "cell_type": "markdown",
   "metadata": {},
   "source": [
    "### Preprocessing HKJC Horse data"
   ]
  },
  {
   "cell_type": "code",
   "execution_count": null,
   "metadata": {},
   "outputs": [],
   "source": [
    "HKJC_HORSE_PROFILE_COLS = [\n",
    "    'horse_id', 'horse_name', 'country', 'colour', 'sex', 'import_type', \n",
    "    'total_stakes', 'last_rating', 'wins', 'places', 'total_races', \n",
    "    'win_freq', 'place_freq',\n",
    "]\n",
    "\n",
    "RACE_RESULTS_HEADERS = [\n",
    "    'horse_id', 'average_rating', 'average_placing', 'average_race_class', \n",
    "    'average_speed'\n",
    "]\n"
   ]
  },
  {
   "cell_type": "code",
   "execution_count": null,
   "metadata": {},
   "outputs": [],
   "source": [
    "hkjc_horse_profile_df = pd.DataFrame()\n",
    "\n",
    "for hkjc_horse in os.listdir(HKJC_HORSE_PROFILE_DIR):\n",
    "    hkjc_horse_id = hkjc_horse.split('.')[0]\n",
    "    hkjc_horse_df = pd.read_csv(f'{HKJC_HORSE_PROFILE_DIR}/{hkjc_horse}')\n",
    "    print(f\"Processed {hkjc_horse_id}\")\n",
    "\n",
    "    horse_name = hkjc_horse_df['horse_name'].iloc[0]   \n",
    "    colour_sex = hkjc_horse_df['Colour / Sex'].iloc[0].split(' / ')\n",
    "    colour, sex = colour_sex[0], colour_sex[-1]\n",
    "    import_type = hkjc_horse_df['Import Type'].iloc[0]\n",
    "    hkjc_horse_df['Total Stakes*'] = hkjc_horse_df['Total Stakes*'].replace('[\\$,]', '', regex=True).astype(int)\n",
    "    total_stakes = hkjc_horse_df['Total Stakes*'].iloc[0]\n",
    "\n",
    "    last_rating = None\n",
    "    if \"Last Rating\" in hkjc_horse_df:\n",
    "        last_rating = hkjc_horse_df['Last Rating'].iloc[0]\n",
    "\n",
    "    if \"Country of Origin\" in hkjc_horse_df:\n",
    "        country = hkjc_horse_df['Country of Origin'].iloc[0]\n",
    "    elif \"Country of Origin / Age\" in hkjc_horse_df:\n",
    "        country = hkjc_horse_df['Country of Origin / Age'].iloc[0].split(' / ')[0]\n",
    "    \n",
    "    win, second, third, starts = hkjc_horse_df['No. of 1-2-3-Starts*'].iloc[0].split('-')\n",
    "    win = int(win)\n",
    "    place = win + int(second) + int(third)\n",
    "    win_freq, place_freq = 0, 0\n",
    "    if starts != '0':\n",
    "        win_freq = win / int(starts)\n",
    "        place_freq = int(place) / int(starts)\n",
    "\n",
    "    row = [hkjc_horse_id, horse_name, country, colour, sex, import_type, total_stakes, last_rating, win, place, starts, win_freq, place_freq]\n",
    "    hkjc_horse_profile_df = hkjc_horse_profile_df.append(pd.Series(row, index=HKJC_HORSE_PROFILE_COLS), ignore_index=True)\n"
   ]
  },
  {
   "cell_type": "code",
   "execution_count": null,
   "metadata": {},
   "outputs": [],
   "source": [
    "print(hkjc_horse_profile_df.shape)\n",
    "hkjc_horse_profile_df.head()\n"
   ]
  },
  {
   "cell_type": "code",
   "execution_count": null,
   "metadata": {},
   "outputs": [],
   "source": [
    "hkjc_race_results_df = pd.DataFrame()\n",
    "\n",
    "def time_to_seconds(time_str):\n",
    "    parts = time_str.split('.')\n",
    "    return int(parts[0]) * 60 + int(parts[1])\n",
    "\n",
    "for hkjc_race in os.listdir(HKJC_RACE_RESULTS_DIR):\n",
    "    hkjc_horse_id = hkjc_race.split('.')[0]\n",
    "    hkjc_race_df = pd.read_csv(f'{HKJC_RACE_RESULTS_DIR}/{hkjc_race}')\n",
    "    print(f\"Processed {hkjc_horse_id}\")\n",
    "\n",
    "    hkjc_race_df = hkjc_race_df[(hkjc_race_df != '--').all(axis=1)]\n",
    "    hkjc_race_df.dropna(inplace=True)\n",
    "    hkjc_race_df.reset_index(drop=True, inplace=True)\n",
    "\n",
    "    average_rating = pd.to_numeric(hkjc_race_df['Rtg.'], errors='coerce', downcast='float').mean()\n",
    "    average_placing = pd.to_numeric(hkjc_race_df['Pla.'], errors='coerce', downcast='float').mean()\n",
    "    average_race_class = pd.to_numeric(hkjc_race_df['RaceClass'], errors='coerce', downcast='float').mean()\n",
    "\n",
    "    hkjc_race_df['Finish Time'] = hkjc_race_df['Finish Time'].apply(time_to_seconds)\n",
    "    hkjc_race_df['Average Speed'] = hkjc_race_df['Dist.'].astype(int) / hkjc_race_df['Finish Time']\n",
    "    average_race_speed = hkjc_race_df['Average Speed'].mean()\n",
    "\n",
    "    row = [hkjc_horse_id, average_rating, average_placing, average_race_class, average_race_speed]\n",
    "    hkjc_race_results_df = hkjc_race_results_df.append(pd.Series(row, index=RACE_RESULTS_HEADERS), ignore_index=True)\n"
   ]
  },
  {
   "cell_type": "code",
   "execution_count": null,
   "metadata": {},
   "outputs": [],
   "source": [
    "print(hkjc_race_results_df.shape)\n",
    "hkjc_race_results_df.head()\n"
   ]
  },
  {
   "cell_type": "code",
   "execution_count": null,
   "metadata": {},
   "outputs": [],
   "source": [
    "hkjc_horses_df = hkjc_horse_profile_df.set_index('horse_id').join(hkjc_race_results_df.set_index('horse_id'), how='inner').reset_index()\n",
    "print(hkjc_horses_df.shape)\n",
    "hkjc_horses_df.head(10)\n"
   ]
  },
  {
   "cell_type": "code",
   "execution_count": null,
   "metadata": {},
   "outputs": [],
   "source": [
    "hkjc_horses_df.isna().sum()\n"
   ]
  },
  {
   "cell_type": "code",
   "execution_count": null,
   "metadata": {},
   "outputs": [],
   "source": [
    "hkjc_horses_df.dropna(inplace=True)\n",
    "hkjc_horses_df.reset_index(drop=True, inplace=True)\n",
    "hkjc_horses_df.shape\n"
   ]
  },
  {
   "cell_type": "code",
   "execution_count": null,
   "metadata": {},
   "outputs": [],
   "source": [
    "hkjc_missing_horse_ids = set(race_df['horse_id']) - set(hkjc_horses_df['horse_id'])\n",
    "print(len(hkjc_missing_horse_ids))\n"
   ]
  },
  {
   "cell_type": "code",
   "execution_count": null,
   "metadata": {},
   "outputs": [],
   "source": [
    "hkjc_horses_df.to_csv('hkjc_horses.csv', index=False)\n"
   ]
  }
 ],
 "metadata": {
  "language_info": {
   "name": "python"
  }
 },
 "nbformat": 4,
 "nbformat_minor": 2
}
