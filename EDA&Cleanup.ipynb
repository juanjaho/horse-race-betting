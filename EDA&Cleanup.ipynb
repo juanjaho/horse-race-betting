{
 "cells": [
  {
   "cell_type": "code",
   "execution_count": 1333,
   "metadata": {},
   "outputs": [],
   "source": [
    "import pandas as pd\n",
    "import numpy as np\n",
    "import matplotlib.pyplot as plt\n",
    "import os\n",
    "import sys\n",
    "from fractions import Fraction\n",
    "\n",
    "# ignore warnings\n",
    "import warnings\n",
    "warnings.filterwarnings('ignore')"
   ]
  },
  {
   "cell_type": "markdown",
   "metadata": {},
   "source": [
    "Data source: https://www.kaggle.com/datasets/lantanacamara/hong-kong-horse-racing/data \n",
    "\n",
    "Feature definition: https://www.kaggle.com/datasets/lantanacamara/hong-kong-horse-racing/discussion/40574\n",
    "- finishing_position: final position of the race (e.g. 3)\n",
    "- horse_number: horse number (e.g. 10)\n",
    "- horse_name: horse name (e.g. GOLDWEAVER)\n",
    "- horse_id: unique horse id (e.g. P072)\n",
    "- jockey: jockey name (e.g. Y T Cheng)\n",
    "- trainer: trainer name (e.g. Y S Tsui)\n",
    "- actual_weight: The total weight, in pounds, a runner carries during a race including jockey, saddle and extra metal weights. (e.g. 121)\n",
    "- declared_horse_weight: horse weight in pounds (e.g. 1065)\n",
    "- draw: The draw refers to a horse’s position in the starting gate. Draw number is randomly assigned by computer a couple of days before the race (e.g. 3)\n",
    "- length_behind_winner: measurement in horse length between the winner and the running horse. A horse length is approximately 8 feet from nose to tail. (e.g. 2)\n",
    "- running_position_1: Places during a race where the running positions are indicated in a track chart. (e.g. 2)\n",
    "- running_position_2: Places during a race where the running positions are indicated in a track chart. (e.g. 1)\n",
    "- running_position_3: Places during a race where the running positions are indicated in a track chart. (e.g. 1)\n",
    "- running_position_4: Places during a race where the running positions are indicated in a track chart. (e.g. 3)\n",
    "- finish_time: race finish time (e.g. 1.22.66)\n",
    "- win_odds: winning odds and returns. For example win_odds = \"3\" means \"1/3\" or \"33.3%\" chance of winning and return is \"3 x initial stake\" (e.g. 5.7)\n",
    "- running_position_5: Places during a race where the running positions are indicated in a track chart. (e.g. NA)\n",
    "- running_position_6: Places during a race where the running positions are indicated in a track chart. (e.g. NA)\n",
    "- race_id: race number (e.g. 2014-001)\n",
    "\n",
    "Symbol Reference: https://racing.hkjc.com/racing/english/racing-info/special_race_index.asp\n",
    "- DISQ: Disqualified - The horse was disqualified from the race due to a rule violation.\n",
    "- DNF: Did Not Finish - The horse did not complete the race for some reason.\n",
    "- FE: Horse fell during the race - Indicates that the horse fell during the race.\n",
    "- ML: Many Lengths - Often used to describe the winning margin of a horse, indicating that it won by a significant number of lengths.\n",
    "- PU: Pulled Up - The horse was withdrawn from the race by its jockey or stopped running before completing the race due to an issue.\n",
    "- TNP: Took No Part - The horse was present at the start of the race but did not participate.\n",
    "- TO: Tailed Off - The horse lagged far behind the rest of the field during the race.\n",
    "- UR: Unseated Rider - The jockey fell off the horse during the race.\n",
    "- VOID: Void Race - The race was declared void, often due to unforeseen circumstances or irregularities.\n",
    "- WR: Withdrawn-by Starter - The horse was withdrawn from the race by the starter before the race began.\n",
    "- WV: Withdrawn-on Veterinary Grounds - The horse was withdrawn from the race based on veterinary advice or grounds.\n",
    "- WV-A: Withdrawn-on Veterinary Grounds after weighing out - The horse was withdrawn from the race based on veterinary advice after the weighing out process.\n",
    "- WX: Withdrawn-by order of Stewards - The horse was withdrawn from the race by order of the stewards.\n",
    "- WX-A: Withdrawn-by order of Stewards after weighing out - The horse was withdrawn from the race by order of the stewards after the weighing out process.\n",
    "- WXNR: Withdrawn-non runner - The horse was withdrawn from the race as a non-runner, often due to injury or other reasons.\n",
    "\n",
    "Reference for data exploration: https://www.kaggle.com/code/alberthkcheng/hong-kong-horse-racing-explained-with-data/notebook (Note that this reference uses outdated data)"
   ]
  },
  {
   "cell_type": "markdown",
   "metadata": {},
   "source": [
    "# Data Cleaning and Exploration "
   ]
  },
  {
   "cell_type": "code",
   "execution_count": 1334,
   "metadata": {},
   "outputs": [],
   "source": [
    "# import data\n",
    "race_result_horse = pd.read_csv(\"./data/race-result-horse.csv\")\n",
    "race_result_race = pd.read_csv(\"./data/race-result-race.csv\")"
   ]
  },
  {
   "cell_type": "code",
   "execution_count": 1335,
   "metadata": {},
   "outputs": [
    {
     "data": {
      "text/html": [
       "<div>\n",
       "<style scoped>\n",
       "    .dataframe tbody tr th:only-of-type {\n",
       "        vertical-align: middle;\n",
       "    }\n",
       "\n",
       "    .dataframe tbody tr th {\n",
       "        vertical-align: top;\n",
       "    }\n",
       "\n",
       "    .dataframe thead th {\n",
       "        text-align: right;\n",
       "    }\n",
       "</style>\n",
       "<table border=\"1\" class=\"dataframe\">\n",
       "  <thead>\n",
       "    <tr style=\"text-align: right;\">\n",
       "      <th></th>\n",
       "      <th>finishing_position</th>\n",
       "      <th>horse_number</th>\n",
       "      <th>horse_name</th>\n",
       "      <th>horse_id</th>\n",
       "      <th>jockey</th>\n",
       "      <th>trainer</th>\n",
       "      <th>actual_weight</th>\n",
       "      <th>declared_horse_weight</th>\n",
       "      <th>draw</th>\n",
       "      <th>length_behind_winner</th>\n",
       "      <th>running_position_1</th>\n",
       "      <th>running_position_2</th>\n",
       "      <th>running_position_3</th>\n",
       "      <th>running_position_4</th>\n",
       "      <th>finish_time</th>\n",
       "      <th>win_odds</th>\n",
       "      <th>running_position_5</th>\n",
       "      <th>running_position_6</th>\n",
       "      <th>race_id</th>\n",
       "    </tr>\n",
       "  </thead>\n",
       "  <tbody>\n",
       "    <tr>\n",
       "      <th>0</th>\n",
       "      <td>1</td>\n",
       "      <td>1.0</td>\n",
       "      <td>DOUBLE DRAGON</td>\n",
       "      <td>K019</td>\n",
       "      <td>B Prebble</td>\n",
       "      <td>D Cruz</td>\n",
       "      <td>133</td>\n",
       "      <td>1032</td>\n",
       "      <td>1</td>\n",
       "      <td>-</td>\n",
       "      <td>1.0</td>\n",
       "      <td>2.0</td>\n",
       "      <td>2.0</td>\n",
       "      <td>1.0</td>\n",
       "      <td>1.22.33</td>\n",
       "      <td>3.8</td>\n",
       "      <td>NaN</td>\n",
       "      <td>NaN</td>\n",
       "      <td>2014-001</td>\n",
       "    </tr>\n",
       "    <tr>\n",
       "      <th>1</th>\n",
       "      <td>2</td>\n",
       "      <td>2.0</td>\n",
       "      <td>PLAIN BLUE BANNER</td>\n",
       "      <td>S070</td>\n",
       "      <td>D Whyte</td>\n",
       "      <td>D E Ferraris</td>\n",
       "      <td>133</td>\n",
       "      <td>1075</td>\n",
       "      <td>13</td>\n",
       "      <td>2</td>\n",
       "      <td>8.0</td>\n",
       "      <td>9.0</td>\n",
       "      <td>9.0</td>\n",
       "      <td>2.0</td>\n",
       "      <td>1.22.65</td>\n",
       "      <td>8</td>\n",
       "      <td>NaN</td>\n",
       "      <td>NaN</td>\n",
       "      <td>2014-001</td>\n",
       "    </tr>\n",
       "    <tr>\n",
       "      <th>2</th>\n",
       "      <td>3</td>\n",
       "      <td>10.0</td>\n",
       "      <td>GOLDWEAVER</td>\n",
       "      <td>P072</td>\n",
       "      <td>Y T Cheng</td>\n",
       "      <td>Y S Tsui</td>\n",
       "      <td>121</td>\n",
       "      <td>1065</td>\n",
       "      <td>3</td>\n",
       "      <td>2</td>\n",
       "      <td>2.0</td>\n",
       "      <td>1.0</td>\n",
       "      <td>1.0</td>\n",
       "      <td>3.0</td>\n",
       "      <td>1.22.66</td>\n",
       "      <td>5.7</td>\n",
       "      <td>NaN</td>\n",
       "      <td>NaN</td>\n",
       "      <td>2014-001</td>\n",
       "    </tr>\n",
       "    <tr>\n",
       "      <th>3</th>\n",
       "      <td>4</td>\n",
       "      <td>3.0</td>\n",
       "      <td>SUPREME PROFIT</td>\n",
       "      <td>P230</td>\n",
       "      <td>J Moreira</td>\n",
       "      <td>C S Shum</td>\n",
       "      <td>132</td>\n",
       "      <td>1222</td>\n",
       "      <td>2</td>\n",
       "      <td>2</td>\n",
       "      <td>6.0</td>\n",
       "      <td>4.0</td>\n",
       "      <td>5.0</td>\n",
       "      <td>4.0</td>\n",
       "      <td>1.22.66</td>\n",
       "      <td>6.1</td>\n",
       "      <td>NaN</td>\n",
       "      <td>NaN</td>\n",
       "      <td>2014-001</td>\n",
       "    </tr>\n",
       "    <tr>\n",
       "      <th>4</th>\n",
       "      <td>5</td>\n",
       "      <td>7.0</td>\n",
       "      <td>THE ONLY KID</td>\n",
       "      <td>H173</td>\n",
       "      <td>Z Purton</td>\n",
       "      <td>K W Lui</td>\n",
       "      <td>125</td>\n",
       "      <td>1136</td>\n",
       "      <td>9</td>\n",
       "      <td>4-1/4</td>\n",
       "      <td>9.0</td>\n",
       "      <td>10.0</td>\n",
       "      <td>10.0</td>\n",
       "      <td>5.0</td>\n",
       "      <td>1.23.02</td>\n",
       "      <td>6.1</td>\n",
       "      <td>NaN</td>\n",
       "      <td>NaN</td>\n",
       "      <td>2014-001</td>\n",
       "    </tr>\n",
       "  </tbody>\n",
       "</table>\n",
       "</div>"
      ],
      "text/plain": [
       "  finishing_position  horse_number         horse_name horse_id     jockey  \\\n",
       "0                  1           1.0      DOUBLE DRAGON     K019  B Prebble   \n",
       "1                  2           2.0  PLAIN BLUE BANNER     S070    D Whyte   \n",
       "2                  3          10.0         GOLDWEAVER     P072  Y T Cheng   \n",
       "3                  4           3.0     SUPREME PROFIT     P230  J Moreira   \n",
       "4                  5           7.0       THE ONLY KID     H173   Z Purton   \n",
       "\n",
       "        trainer actual_weight declared_horse_weight draw length_behind_winner  \\\n",
       "0        D Cruz           133                  1032    1                    -   \n",
       "1  D E Ferraris           133                  1075   13                    2   \n",
       "2      Y S Tsui           121                  1065    3                    2   \n",
       "3      C S Shum           132                  1222    2                    2   \n",
       "4       K W Lui           125                  1136    9                4-1/4   \n",
       "\n",
       "   running_position_1  running_position_2  running_position_3  \\\n",
       "0                 1.0                 2.0                 2.0   \n",
       "1                 8.0                 9.0                 9.0   \n",
       "2                 2.0                 1.0                 1.0   \n",
       "3                 6.0                 4.0                 5.0   \n",
       "4                 9.0                10.0                10.0   \n",
       "\n",
       "   running_position_4 finish_time win_odds  running_position_5  \\\n",
       "0                 1.0     1.22.33      3.8                 NaN   \n",
       "1                 2.0     1.22.65        8                 NaN   \n",
       "2                 3.0     1.22.66      5.7                 NaN   \n",
       "3                 4.0     1.22.66      6.1                 NaN   \n",
       "4                 5.0     1.23.02      6.1                 NaN   \n",
       "\n",
       "   running_position_6   race_id  \n",
       "0                 NaN  2014-001  \n",
       "1                 NaN  2014-001  \n",
       "2                 NaN  2014-001  \n",
       "3                 NaN  2014-001  \n",
       "4                 NaN  2014-001  "
      ]
     },
     "execution_count": 1335,
     "metadata": {},
     "output_type": "execute_result"
    }
   ],
   "source": [
    "race_result_horse.head()"
   ]
  },
  {
   "cell_type": "code",
   "execution_count": 1336,
   "metadata": {},
   "outputs": [
    {
     "data": {
      "text/html": [
       "<div>\n",
       "<style scoped>\n",
       "    .dataframe tbody tr th:only-of-type {\n",
       "        vertical-align: middle;\n",
       "    }\n",
       "\n",
       "    .dataframe tbody tr th {\n",
       "        vertical-align: top;\n",
       "    }\n",
       "\n",
       "    .dataframe thead th {\n",
       "        text-align: right;\n",
       "    }\n",
       "</style>\n",
       "<table border=\"1\" class=\"dataframe\">\n",
       "  <thead>\n",
       "    <tr style=\"text-align: right;\">\n",
       "      <th></th>\n",
       "      <th>src</th>\n",
       "      <th>race_date</th>\n",
       "      <th>race_course</th>\n",
       "      <th>race_number</th>\n",
       "      <th>race_id</th>\n",
       "      <th>race_class</th>\n",
       "      <th>race_distance</th>\n",
       "      <th>track_condition</th>\n",
       "      <th>race_name</th>\n",
       "      <th>track</th>\n",
       "      <th>sectional_time</th>\n",
       "      <th>incident_report</th>\n",
       "    </tr>\n",
       "  </thead>\n",
       "  <tbody>\n",
       "    <tr>\n",
       "      <th>0</th>\n",
       "      <td>20140914-1.html</td>\n",
       "      <td>2014-09-14</td>\n",
       "      <td>Sha Tin</td>\n",
       "      <td>1</td>\n",
       "      <td>2014-001</td>\n",
       "      <td>Class 5</td>\n",
       "      <td>1400</td>\n",
       "      <td>GOOD TO FIRM</td>\n",
       "      <td>TIM WA HANDICAP</td>\n",
       "      <td>TURF - \"A\" COURSE</td>\n",
       "      <td>13.59 22.08 23.11 23.55</td>\n",
       "      <td>\\n                When about to enter the trac...</td>\n",
       "    </tr>\n",
       "    <tr>\n",
       "      <th>1</th>\n",
       "      <td>20140914-10.html</td>\n",
       "      <td>2014-09-14</td>\n",
       "      <td>Sha Tin</td>\n",
       "      <td>10</td>\n",
       "      <td>2014-010</td>\n",
       "      <td>Class 2</td>\n",
       "      <td>1400</td>\n",
       "      <td>GOOD TO FIRM</td>\n",
       "      <td>COTTON TREE HANDICAP</td>\n",
       "      <td>TURF - \"A\" COURSE</td>\n",
       "      <td>13.55 22.25 22.89 22.85</td>\n",
       "      <td>\\n                SMART MAN was slow to begin....</td>\n",
       "    </tr>\n",
       "    <tr>\n",
       "      <th>2</th>\n",
       "      <td>20140914-2.html</td>\n",
       "      <td>2014-09-14</td>\n",
       "      <td>Sha Tin</td>\n",
       "      <td>2</td>\n",
       "      <td>2014-002</td>\n",
       "      <td>Class 5</td>\n",
       "      <td>1200</td>\n",
       "      <td>GOOD TO FIRM</td>\n",
       "      <td>TIM MEI HANDICAP</td>\n",
       "      <td>TURF - \"A\" COURSE</td>\n",
       "      <td>24.06 22.25 23.66</td>\n",
       "      <td>\\n                ALLEY-OOP and FLYING KEEPER ...</td>\n",
       "    </tr>\n",
       "    <tr>\n",
       "      <th>3</th>\n",
       "      <td>20140914-3.html</td>\n",
       "      <td>2014-09-14</td>\n",
       "      <td>Sha Tin</td>\n",
       "      <td>3</td>\n",
       "      <td>2014-003</td>\n",
       "      <td>Class 1</td>\n",
       "      <td>1200</td>\n",
       "      <td>GOOD TO FIRM</td>\n",
       "      <td>THE HKSAR CHIEF EXECUTIVE'S CUP (HANDICAP)</td>\n",
       "      <td>TURF - \"A\" COURSE</td>\n",
       "      <td>23.42 22.48 22.47</td>\n",
       "      <td>\\n                On arrival at the Start, it ...</td>\n",
       "    </tr>\n",
       "    <tr>\n",
       "      <th>4</th>\n",
       "      <td>20140914-4.html</td>\n",
       "      <td>2014-09-14</td>\n",
       "      <td>Sha Tin</td>\n",
       "      <td>4</td>\n",
       "      <td>2014-004</td>\n",
       "      <td>Class 4</td>\n",
       "      <td>1200</td>\n",
       "      <td>GOOD TO FIRM</td>\n",
       "      <td>LUNG WUI HANDICAP</td>\n",
       "      <td>TURF - \"A\" COURSE</td>\n",
       "      <td>24.00 22.62 22.64</td>\n",
       "      <td>\\n                Just prior to the start bein...</td>\n",
       "    </tr>\n",
       "  </tbody>\n",
       "</table>\n",
       "</div>"
      ],
      "text/plain": [
       "                src   race_date race_course  race_number   race_id race_class  \\\n",
       "0   20140914-1.html  2014-09-14     Sha Tin            1  2014-001    Class 5   \n",
       "1  20140914-10.html  2014-09-14     Sha Tin           10  2014-010    Class 2   \n",
       "2   20140914-2.html  2014-09-14     Sha Tin            2  2014-002    Class 5   \n",
       "3   20140914-3.html  2014-09-14     Sha Tin            3  2014-003    Class 1   \n",
       "4   20140914-4.html  2014-09-14     Sha Tin            4  2014-004    Class 4   \n",
       "\n",
       "   race_distance track_condition                                   race_name  \\\n",
       "0           1400    GOOD TO FIRM                             TIM WA HANDICAP   \n",
       "1           1400    GOOD TO FIRM                        COTTON TREE HANDICAP   \n",
       "2           1200    GOOD TO FIRM                            TIM MEI HANDICAP   \n",
       "3           1200    GOOD TO FIRM  THE HKSAR CHIEF EXECUTIVE'S CUP (HANDICAP)   \n",
       "4           1200    GOOD TO FIRM                           LUNG WUI HANDICAP   \n",
       "\n",
       "               track           sectional_time  \\\n",
       "0  TURF - \"A\" COURSE  13.59 22.08 23.11 23.55   \n",
       "1  TURF - \"A\" COURSE  13.55 22.25 22.89 22.85   \n",
       "2  TURF - \"A\" COURSE        24.06 22.25 23.66   \n",
       "3  TURF - \"A\" COURSE        23.42 22.48 22.47   \n",
       "4  TURF - \"A\" COURSE        24.00 22.62 22.64   \n",
       "\n",
       "                                     incident_report  \n",
       "0  \\n                When about to enter the trac...  \n",
       "1  \\n                SMART MAN was slow to begin....  \n",
       "2  \\n                ALLEY-OOP and FLYING KEEPER ...  \n",
       "3  \\n                On arrival at the Start, it ...  \n",
       "4  \\n                Just prior to the start bein...  "
      ]
     },
     "execution_count": 1336,
     "metadata": {},
     "output_type": "execute_result"
    }
   ],
   "source": [
    "race_result_race.head()"
   ]
  },
  {
   "cell_type": "markdown",
   "metadata": {},
   "source": [
    "## Check for invalid data"
   ]
  },
  {
   "cell_type": "code",
   "execution_count": 1337,
   "metadata": {},
   "outputs": [
    {
     "name": "stdout",
     "output_type": "stream",
     "text": [
      "<class 'pandas.core.frame.DataFrame'>\n",
      "RangeIndex: 30189 entries, 0 to 30188\n",
      "Data columns (total 19 columns):\n",
      " #   Column                 Non-Null Count  Dtype  \n",
      "---  ------                 --------------  -----  \n",
      " 0   finishing_position     30187 non-null  object \n",
      " 1   horse_number           29851 non-null  float64\n",
      " 2   horse_name             30189 non-null  object \n",
      " 3   horse_id               30189 non-null  object \n",
      " 4   jockey                 30189 non-null  object \n",
      " 5   trainer                30189 non-null  object \n",
      " 6   actual_weight          30189 non-null  object \n",
      " 7   declared_horse_weight  30189 non-null  object \n",
      " 8   draw                   30189 non-null  object \n",
      " 9   length_behind_winner   30189 non-null  object \n",
      " 10  running_position_1     29574 non-null  float64\n",
      " 11  running_position_2     29560 non-null  float64\n",
      " 12  running_position_3     29542 non-null  float64\n",
      " 13  running_position_4     16618 non-null  float64\n",
      " 14  finish_time            30189 non-null  object \n",
      " 15  win_odds               30189 non-null  object \n",
      " 16  running_position_5     3764 non-null   float64\n",
      " 17  running_position_6     549 non-null    float64\n",
      " 18  race_id                30189 non-null  object \n",
      "dtypes: float64(7), object(12)\n",
      "memory usage: 4.4+ MB\n"
     ]
    }
   ],
   "source": [
    "race_result_horse.info()"
   ]
  },
  {
   "cell_type": "code",
   "execution_count": 1338,
   "metadata": {},
   "outputs": [
    {
     "name": "stdout",
     "output_type": "stream",
     "text": [
      "<class 'pandas.core.frame.DataFrame'>\n",
      "RangeIndex: 2367 entries, 0 to 2366\n",
      "Data columns (total 12 columns):\n",
      " #   Column           Non-Null Count  Dtype \n",
      "---  ------           --------------  ----- \n",
      " 0   src              2367 non-null   object\n",
      " 1   race_date        2367 non-null   object\n",
      " 2   race_course      2367 non-null   object\n",
      " 3   race_number      2367 non-null   int64 \n",
      " 4   race_id          2367 non-null   object\n",
      " 5   race_class       2367 non-null   object\n",
      " 6   race_distance    2367 non-null   int64 \n",
      " 7   track_condition  2367 non-null   object\n",
      " 8   race_name        2367 non-null   object\n",
      " 9   track            2367 non-null   object\n",
      " 10  sectional_time   2367 non-null   object\n",
      " 11  incident_report  2367 non-null   object\n",
      "dtypes: int64(2), object(10)\n",
      "memory usage: 222.0+ KB\n"
     ]
    }
   ],
   "source": [
    "race_result_race.info()"
   ]
  },
  {
   "cell_type": "code",
   "execution_count": 1339,
   "metadata": {},
   "outputs": [
    {
     "name": "stdout",
     "output_type": "stream",
     "text": [
      "finishing_position           2\n",
      "horse_number               338\n",
      "horse_name                   0\n",
      "horse_id                     0\n",
      "jockey                       0\n",
      "trainer                      0\n",
      "actual_weight                0\n",
      "declared_horse_weight        0\n",
      "draw                         0\n",
      "length_behind_winner         0\n",
      "running_position_1         615\n",
      "running_position_2         629\n",
      "running_position_3         647\n",
      "running_position_4       13571\n",
      "finish_time                  0\n",
      "win_odds                     0\n",
      "running_position_5       26425\n",
      "running_position_6       29640\n",
      "race_id                      0\n",
      "dtype: int64\n"
     ]
    }
   ],
   "source": [
    "# check for null values\n",
    "print(race_result_horse.isna().sum())"
   ]
  },
  {
   "cell_type": "code",
   "execution_count": 1340,
   "metadata": {},
   "outputs": [],
   "source": [
    "# drop rows where finishing position is null\n",
    "race_result_horse.dropna(subset=['finishing_position'], inplace=True)"
   ]
  },
  {
   "cell_type": "code",
   "execution_count": 1341,
   "metadata": {},
   "outputs": [
    {
     "name": "stdout",
     "output_type": "stream",
     "text": [
      "src                0\n",
      "race_date          0\n",
      "race_course        0\n",
      "race_number        0\n",
      "race_id            0\n",
      "race_class         0\n",
      "race_distance      0\n",
      "track_condition    0\n",
      "race_name          0\n",
      "track              0\n",
      "sectional_time     0\n",
      "incident_report    0\n",
      "dtype: int64\n"
     ]
    }
   ],
   "source": [
    "print(race_result_race.isnull().sum())"
   ]
  },
  {
   "cell_type": "code",
   "execution_count": 1342,
   "metadata": {},
   "outputs": [
    {
     "name": "stdout",
     "output_type": "stream",
     "text": [
      "finishing_position         36\n",
      "horse_number               14\n",
      "horse_name               2162\n",
      "horse_id                 2162\n",
      "jockey                    106\n",
      "trainer                    95\n",
      "actual_weight              31\n",
      "declared_horse_weight     399\n",
      "draw                       16\n",
      "length_behind_winner      217\n",
      "running_position_1         14\n",
      "running_position_2         14\n",
      "running_position_3         14\n",
      "running_position_4         14\n",
      "finish_time              4175\n",
      "win_odds                  181\n",
      "running_position_5         14\n",
      "running_position_6         14\n",
      "race_id                  2367\n",
      "dtype: int64\n"
     ]
    }
   ],
   "source": [
    "print(race_result_horse.nunique())"
   ]
  },
  {
   "cell_type": "code",
   "execution_count": 1343,
   "metadata": {},
   "outputs": [
    {
     "data": {
      "text/plain": [
       "array(['1', '2', '3', '4', '5', '6', '7', '8', '9', '10', '11', '12',\n",
       "       '13', 'WV-A', '14', 'WV', '9 DH', '2 DH', 'WX', 'PU', '1 DH',\n",
       "       '8 DH', 'UR', 'FE', '4 DH', '10 DH', 'TNP', '5 DH', 'DISQ',\n",
       "       '11 DH', '12 DH', '3 DH', '7 DH', 'WX-A', 'DNF', '6 DH'],\n",
       "      dtype=object)"
      ]
     },
     "execution_count": 1343,
     "metadata": {},
     "output_type": "execute_result"
    }
   ],
   "source": [
    "race_result_horse.finishing_position.unique()"
   ]
  },
  {
   "cell_type": "code",
   "execution_count": 1344,
   "metadata": {},
   "outputs": [
    {
     "name": "stdout",
     "output_type": "stream",
     "text": [
      "2.2128730910656906 %\n"
     ]
    },
    {
     "data": {
      "text/plain": [
       "array(['1', '2', '3', '4', '5', '6', '7', '8', '9', '10', '11', '12',\n",
       "       '13', '14'], dtype=object)"
      ]
     },
     "execution_count": 1344,
     "metadata": {},
     "output_type": "execute_result"
    }
   ],
   "source": [
    "# extract only the \n",
    "race_result_horse[\"finishing_position\"]=race_result_horse['finishing_position'].str.extract('(\\d+)')\n",
    "print(race_result_horse[\"finishing_position\"].isna().sum()/len(race_result_horse)*100, \"%\")\n",
    "\n",
    "# drop rows where finishing position is null\n",
    "race_result_horse.dropna(subset=['finishing_position'], inplace=True)\n",
    "\n",
    "race_result_horse['finishing_position'].unique()"
   ]
  },
  {
   "cell_type": "code",
   "execution_count": 1345,
   "metadata": {},
   "outputs": [],
   "source": [
    "# convert finishing position to int\n",
    "race_result_horse['finishing_position'] = race_result_horse['finishing_position'].astype(int)\n",
    "\n",
    "# convert horse number to int\n",
    "race_result_horse['horse_number'] = race_result_horse['horse_number'].astype(int)\n",
    "\n",
    "# convert actual weight and declared weight to float\n",
    "race_result_horse['actual_weight'] = race_result_horse['actual_weight'].astype(float)\n",
    "race_result_horse['declared_horse_weight'] = race_result_horse['declared_horse_weight'].astype(float)\n",
    "\n",
    "# convert draw to int\n",
    "race_result_horse['draw'] = race_result_horse['draw'].astype(int)"
   ]
  },
  {
   "cell_type": "code",
   "execution_count": 1346,
   "metadata": {},
   "outputs": [
    {
     "data": {
      "text/plain": [
       "array([ 1, 13,  3,  2,  9, 11, 12,  8,  6,  7,  4,  5, 14, 10, 15])"
      ]
     },
     "execution_count": 1346,
     "metadata": {},
     "output_type": "execute_result"
    }
   ],
   "source": [
    "race_result_horse.draw.unique()"
   ]
  },
  {
   "cell_type": "code",
   "execution_count": 1347,
   "metadata": {},
   "outputs": [],
   "source": [
    "# drop row where draw exceeds 14\n",
    "race_result_horse = race_result_horse[race_result_horse['draw'] <= 14]"
   ]
  },
  {
   "cell_type": "code",
   "execution_count": 1348,
   "metadata": {},
   "outputs": [
    {
     "data": {
      "text/plain": [
       "True    29518\n",
       "Name: finish_time, dtype: int64"
      ]
     },
     "execution_count": 1348,
     "metadata": {},
     "output_type": "execute_result"
    }
   ],
   "source": [
    "# check if all the finish time are in the format of 'x.xx.xx'\n",
    "race_result_horse['finish_time'].str.contains('\\d+.\\d+.\\d+', na=False, regex=True).value_counts()"
   ]
  },
  {
   "cell_type": "code",
   "execution_count": 1349,
   "metadata": {},
   "outputs": [],
   "source": [
    "# parse the finish time to milliseconds\n",
    "def convert_to_milliseconds(time_str):\n",
    "    parts = time_str.split('.')\n",
    "    minutes = int(parts[0]) * 60 * 1000\n",
    "    seconds = int(parts[1]) * 1000\n",
    "    hundredths = int(parts[2]) * 10\n",
    "    return minutes + seconds + hundredths\n",
    "\n",
    "race_result_horse['finish_time_ms'] = race_result_horse['finish_time'].apply(convert_to_milliseconds).astype(float)"
   ]
  },
  {
   "cell_type": "code",
   "execution_count": 1350,
   "metadata": {},
   "outputs": [
    {
     "data": {
      "text/plain": [
       "True    29518\n",
       "Name: win_odds, dtype: int64"
      ]
     },
     "execution_count": 1350,
     "metadata": {},
     "output_type": "execute_result"
    }
   ],
   "source": [
    "# check if all win_odds are in the format of 'x.x' or 'x'\n",
    "race_result_horse['win_odds'].str.contains('\\d+(\\.\\d+)?', na=False, regex=True).value_counts()"
   ]
  },
  {
   "cell_type": "code",
   "execution_count": 1351,
   "metadata": {},
   "outputs": [],
   "source": [
    "race_result_horse['win_odds'] = race_result_horse['win_odds'].astype(float)"
   ]
  },
  {
   "cell_type": "code",
   "execution_count": 1352,
   "metadata": {},
   "outputs": [
    {
     "name": "stdout",
     "output_type": "stream",
     "text": [
      "<class 'pandas.core.frame.DataFrame'>\n",
      "Int64Index: 29518 entries, 0 to 30186\n",
      "Data columns (total 20 columns):\n",
      " #   Column                 Non-Null Count  Dtype  \n",
      "---  ------                 --------------  -----  \n",
      " 0   finishing_position     29518 non-null  int64  \n",
      " 1   horse_number           29518 non-null  int64  \n",
      " 2   horse_name             29518 non-null  object \n",
      " 3   horse_id               29518 non-null  object \n",
      " 4   jockey                 29518 non-null  object \n",
      " 5   trainer                29518 non-null  object \n",
      " 6   actual_weight          29518 non-null  float64\n",
      " 7   declared_horse_weight  29518 non-null  float64\n",
      " 8   draw                   29518 non-null  int64  \n",
      " 9   length_behind_winner   29518 non-null  object \n",
      " 10  running_position_1     29518 non-null  float64\n",
      " 11  running_position_2     29518 non-null  float64\n",
      " 12  running_position_3     29518 non-null  float64\n",
      " 13  running_position_4     16612 non-null  float64\n",
      " 14  finish_time            29518 non-null  object \n",
      " 15  win_odds               29518 non-null  float64\n",
      " 16  running_position_5     3763 non-null   float64\n",
      " 17  running_position_6     549 non-null    float64\n",
      " 18  race_id                29518 non-null  object \n",
      " 19  finish_time_ms         29518 non-null  float64\n",
      "dtypes: float64(10), int64(3), object(7)\n",
      "memory usage: 4.7+ MB\n"
     ]
    }
   ],
   "source": [
    "race_result_horse.info()"
   ]
  },
  {
   "cell_type": "code",
   "execution_count": 1353,
   "metadata": {},
   "outputs": [
    {
     "name": "stdout",
     "output_type": "stream",
     "text": [
      "src                2367\n",
      "race_date           254\n",
      "race_course           2\n",
      "race_number          11\n",
      "race_id            2367\n",
      "race_class           16\n",
      "race_distance         9\n",
      "track_condition       9\n",
      "race_name          1084\n",
      "track                 7\n",
      "sectional_time     2367\n",
      "incident_report    2367\n",
      "dtype: int64\n"
     ]
    }
   ],
   "source": [
    "print(race_result_race.nunique())"
   ]
  },
  {
   "cell_type": "code",
   "execution_count": null,
   "metadata": {},
   "outputs": [],
   "source": [
    "# convert race_date to date \n",
    "race_result_race[\"race_date\"] = pd.to_datetime(race_result_race[\"race_date\"])"
   ]
  },
  {
   "cell_type": "code",
   "execution_count": 1354,
   "metadata": {},
   "outputs": [
    {
     "name": "stdout",
     "output_type": "stream",
     "text": [
      "True\n"
     ]
    }
   ],
   "source": [
    "# check if all the race_id exist in src\n",
    "horse_race_ids = set(race_result_horse.race_id.unique())\n",
    "race_ids = set(race_result_race.race_id.unique())\n",
    "\n",
    "# if the intersection is the same length as the horse_race_ids, then all ids in horse data set exist in race data set\n",
    "print(len(horse_race_ids & race_ids) == len(horse_race_ids))"
   ]
  },
  {
   "cell_type": "code",
   "execution_count": 1355,
   "metadata": {},
   "outputs": [
    {
     "data": {
      "text/html": [
       "<div>\n",
       "<style scoped>\n",
       "    .dataframe tbody tr th:only-of-type {\n",
       "        vertical-align: middle;\n",
       "    }\n",
       "\n",
       "    .dataframe tbody tr th {\n",
       "        vertical-align: top;\n",
       "    }\n",
       "\n",
       "    .dataframe thead th {\n",
       "        text-align: right;\n",
       "    }\n",
       "</style>\n",
       "<table border=\"1\" class=\"dataframe\">\n",
       "  <thead>\n",
       "    <tr style=\"text-align: right;\">\n",
       "      <th></th>\n",
       "      <th>finishing_position</th>\n",
       "      <th>horse_number</th>\n",
       "      <th>horse_name</th>\n",
       "      <th>horse_id</th>\n",
       "      <th>jockey</th>\n",
       "      <th>trainer</th>\n",
       "      <th>actual_weight</th>\n",
       "      <th>declared_horse_weight</th>\n",
       "      <th>draw</th>\n",
       "      <th>length_behind_winner</th>\n",
       "      <th>running_position_1</th>\n",
       "      <th>running_position_2</th>\n",
       "      <th>running_position_3</th>\n",
       "      <th>running_position_4</th>\n",
       "      <th>finish_time</th>\n",
       "      <th>win_odds</th>\n",
       "      <th>running_position_5</th>\n",
       "      <th>running_position_6</th>\n",
       "      <th>race_id</th>\n",
       "      <th>finish_time_ms</th>\n",
       "    </tr>\n",
       "  </thead>\n",
       "  <tbody>\n",
       "  </tbody>\n",
       "</table>\n",
       "</div>"
      ],
      "text/plain": [
       "Empty DataFrame\n",
       "Columns: [finishing_position, horse_number, horse_name, horse_id, jockey, trainer, actual_weight, declared_horse_weight, draw, length_behind_winner, running_position_1, running_position_2, running_position_3, running_position_4, finish_time, win_odds, running_position_5, running_position_6, race_id, finish_time_ms]\n",
       "Index: []"
      ]
     },
     "execution_count": 1355,
     "metadata": {},
     "output_type": "execute_result"
    }
   ],
   "source": [
    "race_result_horse[race_result_horse.draw == 15]"
   ]
  },
  {
   "cell_type": "markdown",
   "metadata": {},
   "source": [
    "## Number of horse in a race\n",
    "- There are at most 14 horses in a race, with a minimum of 5. \n",
    "- Majority being 12 or 14. \n",
    "- Median is 12.\n"
   ]
  },
  {
   "cell_type": "code",
   "execution_count": 1356,
   "metadata": {},
   "outputs": [
    {
     "name": "stdout",
     "output_type": "stream",
     "text": [
      "Median 12.0\n"
     ]
    },
    {
     "data": {
      "image/png": "[encoded data removed]",
      "text/plain": [
       "<Figure size 1000x600 with 1 Axes>"
      ]
     },
     "metadata": {},
     "output_type": "display_data"
    }
   ],
   "source": [
    "# group by race_id and count the number of horses\n",
    "count_horse_per_race = race_result_horse.groupby(\n",
    "    \"race_id\", as_index=True).count()[\"horse_id\"]\n",
    "\n",
    "print(\"Median\", count_horse_per_race.median())\n",
    "\n",
    "# plot the distribution of the number of horses\n",
    "plt.figure(figsize=(10, 6))\n",
    "plt.bar(count_horse_per_race.value_counts().index, count_horse_per_race.value_counts().values)\n",
    "plt.xlabel(\"Number of Horses\")\n",
    "plt.ylabel\n",
    "plt.title(\"Distribution of the Number of Horses\")\n",
    "plt.show()\n",
    "    "
   ]
  },
  {
   "cell_type": "markdown",
   "metadata": {},
   "source": [
    "# Data Analysis"
   ]
  },
  {
   "cell_type": "markdown",
   "metadata": {},
   "source": [
    "## Handicap System¶\n",
    "Hong Kong horse racing use handicap system: horse no.1 has the highest rating and carry the heaviest weight (from reference). "
   ]
  },
  {
   "cell_type": "code",
   "execution_count": 1357,
   "metadata": {},
   "outputs": [
    {
     "data": {
      "image/png": "[encoded data removed]",
      "text/plain": [
       "<Figure size 1000x600 with 1 Axes>"
      ]
     },
     "metadata": {},
     "output_type": "display_data"
    }
   ],
   "source": [
    "# get the average weight carried by the horses group by horse number\n",
    "horse_number_and_weight = race_result_horse[[\"actual_weight\",\"horse_number\"]]\n",
    "\n",
    "# remove the rows with \"-\" in the actual_weight column\n",
    "# horse_number_and_weight = horse_number_and_weight[horse_number_and_weight[\"actual_weight\"] != \"-\"]\n",
    "\n",
    "# # convert the weight to numeric\n",
    "# horse_number_and_weight[\"actual_weight\"] = pd.to_numeric(horse_number_and_weight[\"actual_weight\"], errors='coerce')\n",
    "\n",
    "# set the null values in horse_number to 0\n",
    "# horse_number_and_weight[\"horse_number\"] = horse_number_and_weight[\"horse_number\"].fillna(0)\n",
    "\n",
    "# group by horse number and get the average weight\n",
    "average_horse_number_and_weight = horse_number_and_weight.groupby(\"horse_number\").mean()\n",
    "median_horse_number_and_weight = horse_number_and_weight.groupby(\"horse_number\").median()   \n",
    "\n",
    "# plot the average weight carried by the horses\n",
    "plt.figure(figsize=(10, 6))\n",
    "plt.plot(average_horse_number_and_weight.index, average_horse_number_and_weight[\"actual_weight\"], label=\"Average\")\n",
    "plt.plot(median_horse_number_and_weight.index, median_horse_number_and_weight[\"actual_weight\"], label=\"Median\")\n",
    "plt.xlabel(\"Horse Number\")\n",
    "plt.ylabel(\"Weight\")\n",
    "plt.title(\"Weight Carried by the Horses (0 means no horse number)\")\n",
    "plt.legend()\n",
    "plt.show()\n",
    "\n"
   ]
  },
  {
   "cell_type": "markdown",
   "metadata": {},
   "source": [
    "## Draw\n",
    "Draw number is randomly assigned by computer a couple of days before. It refers to the lane number of the horse in the starting gate.\\\n",
    "The innermost lane is 1, and the outermost lane is 14. Thus, the lower the draw number, the better the position as the horse will have a shorter distance to run."
   ]
  },
  {
   "cell_type": "code",
   "execution_count": 1358,
   "metadata": {},
   "outputs": [
    {
     "data": {
      "text/plain": [
       "<matplotlib.legend.Legend at 0x2adc96550>"
      ]
     },
     "execution_count": 1358,
     "metadata": {},
     "output_type": "execute_result"
    },
    {
     "data": {
      "image/png": "[encoded data removed]",
      "text/plain": [
       "<Figure size 1000x600 with 1 Axes>"
      ]
     },
     "metadata": {},
     "output_type": "display_data"
    }
   ],
   "source": [
    "# get the average time taken to finish and the draw position\n",
    "horse_number_and_finishing_position = race_result_horse[[\"finishing_position\",\"draw\"]]\n",
    "\n",
    "\n",
    "# group by draw and get the average time taken to finish\n",
    "average_horse_number_and_finishing_position = horse_number_and_finishing_position.groupby(\"draw\").mean()\n",
    "median_horse_number_and_finishing_position = horse_number_and_finishing_position.groupby(\"draw\").median()\n",
    "\n",
    "\n",
    "# plot the average weight carried by the horses\n",
    "plt.figure(figsize=(10, 6))\n",
    "plt.plot(average_horse_number_and_finishing_position.index, average_horse_number_and_finishing_position[\"finishing_position\"], label=\"Average\")\n",
    "plt.plot(median_horse_number_and_finishing_position.index, median_horse_number_and_finishing_position[\"finishing_position\"], label=\"Median\")\n",
    "plt.xlabel(\"Draw\")\n",
    "plt.ylabel(\"Finishing Position\")\n",
    "plt.title(\"Finishing Position by Draw Position\")\n",
    "plt.legend()"
   ]
  },
  {
   "cell_type": "markdown",
   "metadata": {},
   "source": [
    "# Track Condition\n",
    "Depending on the track condition, the horse may perform differently. "
   ]
  },
  {
   "cell_type": "code",
   "execution_count": 1359,
   "metadata": {},
   "outputs": [
    {
     "data": {
      "text/plain": [
       "array(['GOOD TO FIRM', 'WET FAST', 'GOOD', 'GOOD TO YIELDING', 'WET SLOW',\n",
       "       'FAST', 'YIELDING', 'YIELDING TO SOFT', 'SOFT'], dtype=object)"
      ]
     },
     "execution_count": 1359,
     "metadata": {},
     "output_type": "execute_result"
    }
   ],
   "source": [
    "race_result_race[\"track_condition\"].unique()"
   ]
  },
  {
   "cell_type": "code",
   "execution_count": 1360,
   "metadata": {},
   "outputs": [
    {
     "data": {
      "text/html": [
       "<div>\n",
       "<style scoped>\n",
       "    .dataframe tbody tr th:only-of-type {\n",
       "        vertical-align: middle;\n",
       "    }\n",
       "\n",
       "    .dataframe tbody tr th {\n",
       "        vertical-align: top;\n",
       "    }\n",
       "\n",
       "    .dataframe thead th {\n",
       "        text-align: right;\n",
       "    }\n",
       "</style>\n",
       "<table border=\"1\" class=\"dataframe\">\n",
       "  <thead>\n",
       "    <tr style=\"text-align: right;\">\n",
       "      <th></th>\n",
       "      <th>src</th>\n",
       "      <th>race_date</th>\n",
       "      <th>race_course</th>\n",
       "      <th>race_number</th>\n",
       "      <th>race_id</th>\n",
       "      <th>race_class</th>\n",
       "      <th>race_distance</th>\n",
       "      <th>track_condition</th>\n",
       "      <th>race_name</th>\n",
       "      <th>track</th>\n",
       "      <th>...</th>\n",
       "      <th>length_behind_winner</th>\n",
       "      <th>running_position_1</th>\n",
       "      <th>running_position_2</th>\n",
       "      <th>running_position_3</th>\n",
       "      <th>running_position_4</th>\n",
       "      <th>finish_time</th>\n",
       "      <th>win_odds</th>\n",
       "      <th>running_position_5</th>\n",
       "      <th>running_position_6</th>\n",
       "      <th>finish_time_ms</th>\n",
       "    </tr>\n",
       "  </thead>\n",
       "  <tbody>\n",
       "    <tr>\n",
       "      <th>0</th>\n",
       "      <td>20140914-1.html</td>\n",
       "      <td>2014-09-14</td>\n",
       "      <td>Sha Tin</td>\n",
       "      <td>1</td>\n",
       "      <td>2014-001</td>\n",
       "      <td>Class 5</td>\n",
       "      <td>1400</td>\n",
       "      <td>GOOD TO FIRM</td>\n",
       "      <td>TIM WA HANDICAP</td>\n",
       "      <td>TURF - \"A\" COURSE</td>\n",
       "      <td>...</td>\n",
       "      <td>-</td>\n",
       "      <td>1.0</td>\n",
       "      <td>2.0</td>\n",
       "      <td>2.0</td>\n",
       "      <td>1.0</td>\n",
       "      <td>1.22.33</td>\n",
       "      <td>3.8</td>\n",
       "      <td>NaN</td>\n",
       "      <td>NaN</td>\n",
       "      <td>82330.0</td>\n",
       "    </tr>\n",
       "    <tr>\n",
       "      <th>1</th>\n",
       "      <td>20140914-1.html</td>\n",
       "      <td>2014-09-14</td>\n",
       "      <td>Sha Tin</td>\n",
       "      <td>1</td>\n",
       "      <td>2014-001</td>\n",
       "      <td>Class 5</td>\n",
       "      <td>1400</td>\n",
       "      <td>GOOD TO FIRM</td>\n",
       "      <td>TIM WA HANDICAP</td>\n",
       "      <td>TURF - \"A\" COURSE</td>\n",
       "      <td>...</td>\n",
       "      <td>2</td>\n",
       "      <td>8.0</td>\n",
       "      <td>9.0</td>\n",
       "      <td>9.0</td>\n",
       "      <td>2.0</td>\n",
       "      <td>1.22.65</td>\n",
       "      <td>8.0</td>\n",
       "      <td>NaN</td>\n",
       "      <td>NaN</td>\n",
       "      <td>82650.0</td>\n",
       "    </tr>\n",
       "    <tr>\n",
       "      <th>2</th>\n",
       "      <td>20140914-1.html</td>\n",
       "      <td>2014-09-14</td>\n",
       "      <td>Sha Tin</td>\n",
       "      <td>1</td>\n",
       "      <td>2014-001</td>\n",
       "      <td>Class 5</td>\n",
       "      <td>1400</td>\n",
       "      <td>GOOD TO FIRM</td>\n",
       "      <td>TIM WA HANDICAP</td>\n",
       "      <td>TURF - \"A\" COURSE</td>\n",
       "      <td>...</td>\n",
       "      <td>2</td>\n",
       "      <td>2.0</td>\n",
       "      <td>1.0</td>\n",
       "      <td>1.0</td>\n",
       "      <td>3.0</td>\n",
       "      <td>1.22.66</td>\n",
       "      <td>5.7</td>\n",
       "      <td>NaN</td>\n",
       "      <td>NaN</td>\n",
       "      <td>82660.0</td>\n",
       "    </tr>\n",
       "    <tr>\n",
       "      <th>3</th>\n",
       "      <td>20140914-1.html</td>\n",
       "      <td>2014-09-14</td>\n",
       "      <td>Sha Tin</td>\n",
       "      <td>1</td>\n",
       "      <td>2014-001</td>\n",
       "      <td>Class 5</td>\n",
       "      <td>1400</td>\n",
       "      <td>GOOD TO FIRM</td>\n",
       "      <td>TIM WA HANDICAP</td>\n",
       "      <td>TURF - \"A\" COURSE</td>\n",
       "      <td>...</td>\n",
       "      <td>2</td>\n",
       "      <td>6.0</td>\n",
       "      <td>4.0</td>\n",
       "      <td>5.0</td>\n",
       "      <td>4.0</td>\n",
       "      <td>1.22.66</td>\n",
       "      <td>6.1</td>\n",
       "      <td>NaN</td>\n",
       "      <td>NaN</td>\n",
       "      <td>82660.0</td>\n",
       "    </tr>\n",
       "    <tr>\n",
       "      <th>4</th>\n",
       "      <td>20140914-1.html</td>\n",
       "      <td>2014-09-14</td>\n",
       "      <td>Sha Tin</td>\n",
       "      <td>1</td>\n",
       "      <td>2014-001</td>\n",
       "      <td>Class 5</td>\n",
       "      <td>1400</td>\n",
       "      <td>GOOD TO FIRM</td>\n",
       "      <td>TIM WA HANDICAP</td>\n",
       "      <td>TURF - \"A\" COURSE</td>\n",
       "      <td>...</td>\n",
       "      <td>4-1/4</td>\n",
       "      <td>9.0</td>\n",
       "      <td>10.0</td>\n",
       "      <td>10.0</td>\n",
       "      <td>5.0</td>\n",
       "      <td>1.23.02</td>\n",
       "      <td>6.1</td>\n",
       "      <td>NaN</td>\n",
       "      <td>NaN</td>\n",
       "      <td>83020.0</td>\n",
       "    </tr>\n",
       "  </tbody>\n",
       "</table>\n",
       "<p>5 rows × 31 columns</p>\n",
       "</div>"
      ],
      "text/plain": [
       "               src   race_date race_course  race_number   race_id race_class  \\\n",
       "0  20140914-1.html  2014-09-14     Sha Tin            1  2014-001    Class 5   \n",
       "1  20140914-1.html  2014-09-14     Sha Tin            1  2014-001    Class 5   \n",
       "2  20140914-1.html  2014-09-14     Sha Tin            1  2014-001    Class 5   \n",
       "3  20140914-1.html  2014-09-14     Sha Tin            1  2014-001    Class 5   \n",
       "4  20140914-1.html  2014-09-14     Sha Tin            1  2014-001    Class 5   \n",
       "\n",
       "   race_distance track_condition        race_name              track  ...  \\\n",
       "0           1400    GOOD TO FIRM  TIM WA HANDICAP  TURF - \"A\" COURSE  ...   \n",
       "1           1400    GOOD TO FIRM  TIM WA HANDICAP  TURF - \"A\" COURSE  ...   \n",
       "2           1400    GOOD TO FIRM  TIM WA HANDICAP  TURF - \"A\" COURSE  ...   \n",
       "3           1400    GOOD TO FIRM  TIM WA HANDICAP  TURF - \"A\" COURSE  ...   \n",
       "4           1400    GOOD TO FIRM  TIM WA HANDICAP  TURF - \"A\" COURSE  ...   \n",
       "\n",
       "  length_behind_winner running_position_1  running_position_2  \\\n",
       "0                    -                1.0                 2.0   \n",
       "1                    2                8.0                 9.0   \n",
       "2                    2                2.0                 1.0   \n",
       "3                    2                6.0                 4.0   \n",
       "4                4-1/4                9.0                10.0   \n",
       "\n",
       "   running_position_3 running_position_4 finish_time win_odds  \\\n",
       "0                 2.0                1.0     1.22.33      3.8   \n",
       "1                 9.0                2.0     1.22.65      8.0   \n",
       "2                 1.0                3.0     1.22.66      5.7   \n",
       "3                 5.0                4.0     1.22.66      6.1   \n",
       "4                10.0                5.0     1.23.02      6.1   \n",
       "\n",
       "  running_position_5  running_position_6  finish_time_ms  \n",
       "0                NaN                 NaN         82330.0  \n",
       "1                NaN                 NaN         82650.0  \n",
       "2                NaN                 NaN         82660.0  \n",
       "3                NaN                 NaN         82660.0  \n",
       "4                NaN                 NaN         83020.0  \n",
       "\n",
       "[5 rows x 31 columns]"
      ]
     },
     "execution_count": 1360,
     "metadata": {},
     "output_type": "execute_result"
    }
   ],
   "source": [
    "# merge the two data sets\n",
    "race_result = race_result_race.merge(race_result_horse, how='inner', on='race_id')\n",
    "race_result.head()"
   ]
  },
  {
   "cell_type": "code",
   "execution_count": 1381,
   "metadata": {},
   "outputs": [
    {
     "data": {
      "image/png": "[encoded data removed]",
      "text/plain": [
       "<Figure size 1500x600 with 1 Axes>"
      ]
     },
     "metadata": {},
     "output_type": "display_data"
    }
   ],
   "source": [
    "# group the race result by race id and get the average finish time\n",
    "average_finish_by_track_condition = race_result.groupby(\"track_condition\", as_index=True).mean()[\"finish_time_ms\"]\n",
    "median_finish_by_track_condition = race_result.groupby(\"track_condition\", as_index=True).median()[\"finish_time_ms\"]\n",
    "\n",
    "# sort the average finish time\n",
    "average_finish_by_track_condition = average_finish_by_track_condition.sort_values()\n",
    "\n",
    "\n",
    "# plot the average finish time against the track condition\n",
    "plt.figure(figsize=(15, 6))\n",
    "plt.scatter(average_finish_by_track_condition.index, average_finish_by_track_condition.values)\n",
    "plt.scatter(median_finish_by_track_condition.index, median_finish_by_track_condition.values)\n",
    "plt.xlabel(\"Track Condition\")\n",
    "plt.ylabel(\"Finish Time (ms)\")\n",
    "plt.title(\"Average Finish Time by Track Condition\")\n",
    "plt.show()"
   ]
  },
  {
   "cell_type": "code",
   "execution_count": null,
   "metadata": {},
   "outputs": [],
   "source": []
  }
 ],
 "metadata": {
  "kernelspec": {
   "display_name": "base",
   "language": "python",
   "name": "python3"
  },
  "language_info": {
   "codemirror_mode": {
    "name": "ipython",
    "version": 3
   },
   "file_extension": ".py",
   "mimetype": "text/x-python",
   "name": "python",
   "nbconvert_exporter": "python",
   "pygments_lexer": "ipython3",
   "version": "3.11.4"
  }
 },
 "nbformat": 4,
 "nbformat_minor": 2
}
