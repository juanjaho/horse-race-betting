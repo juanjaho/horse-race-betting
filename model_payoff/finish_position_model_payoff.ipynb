{
 "cells": [
  {
   "cell_type": "code",
   "execution_count": null,
   "metadata": {},
   "outputs": [],
   "source": [
    "import pandas as pd\n",
    "import numpy as np\n",
    "import plotly.express as px\n",
    "import plotly.graph_objects as go\n",
    "\n",
    "import pickle\n"
   ]
  },
  {
   "cell_type": "code",
   "execution_count": null,
   "metadata": {},
   "outputs": [],
   "source": [
    "with open(\"../model/classification/finish_position_lr_model.pkl\", \"rb\") as lr_model_file:\n",
    "    lr = pickle.load(lr_model_file)\n",
    "\n",
    "with open(\"../model/classification/finish_position_rfc_model.pkl\", \"rb\") as rfc_model_file:\n",
    "    rfc = pickle.load(rfc_model_file)\n",
    "\n",
    "with open(\"../model/classification/finish_position_xgbc_model.pkl\", \"rb\") as xgbc_model_file:\n",
    "    xgbc = pickle.load(xgbc_model_file)\n",
    "\n",
    "with open(\"../model/classification/finish_position_cbc_model.pkl\", \"rb\") as cbc_model_file:\n",
    "    cbc = pickle.load(cbc_model_file)\n"
   ]
  },
  {
   "cell_type": "code",
   "execution_count": null,
   "metadata": {},
   "outputs": [],
   "source": [
    "test_df = pd.read_csv(\"../eda/test.csv\")\n",
    "print(test_df.shape)\n",
    "test_df.head()\n"
   ]
  },
  {
   "cell_type": "code",
   "execution_count": null,
   "metadata": {},
   "outputs": [],
   "source": [
    "test_df['finishing_position_class'] = test_df['finishing_position'].apply(lambda x: 1 if x <= 3 else 0)\n",
    "test_df['finishing_position_class'].value_counts()\n"
   ]
  },
  {
   "cell_type": "code",
   "execution_count": null,
   "metadata": {},
   "outputs": [],
   "source": [
    "FEATURES = [\n",
    "    'draw_segments', 'horse_number_segments', 'race_distance',\n",
    "    'temperature_2m_max', 'wind_speed_10m_max',\n",
    "    'proportion_of_additional_weight', 'track_width', 'track_moisture',\n",
    "    'colour_segment', 'sex_segment', 'country_segment',\n",
    "    'win_freq', 'place_freq', 'average_placing', 'average_speed',\n",
    "    'average_rating', 'average_race_class'\n",
    "]\n",
    "\n",
    "X = test_df[FEATURES]\n",
    "X.shape\n",
    "\n"
   ]
  },
  {
   "cell_type": "code",
   "execution_count": null,
   "metadata": {},
   "outputs": [],
   "source": [
    "y_pred_lr = lr.predict_proba(X)\n",
    "y_pred_rfc = rfc.predict_proba(X)\n",
    "y_pred_xgbc = xgbc.predict_proba(X)\n",
    "y_pred_cbc = cbc.predict_proba(X)\n",
    "\n",
    "test_df['pred_class_proba_lr'] = y_pred_lr[:, 1]\n",
    "test_df['pred_class_proba_rfc'] = y_pred_rfc[:, 1]\n",
    "test_df['pred_class_proba_xgb'] = y_pred_xgbc[:, 1]\n",
    "test_df['pred_class_proba_cbc'] = y_pred_cbc[:, 1]\n",
    "test_df.head()\n"
   ]
  },
  {
   "cell_type": "code",
   "execution_count": null,
   "metadata": {},
   "outputs": [],
   "source": [
    "test_df['implied_win_probability'] = 1 / test_df['win_odds']\n",
    "test_df['pred_win_probability'] = (\n",
    "  (test_df['pred_class_proba_rfc'] * (1/3)) + \n",
    "  (test_df['pred_class_proba_xgb'] * (1/3)) +\n",
    "  (test_df['pred_class_proba_cbc'] * (1/3))\n",
    ")\n",
    "test_df['bet_action'] = test_df['pred_win_probability'] > test_df['implied_win_probability']\n",
    "test_df.head()\n"
   ]
  },
  {
   "cell_type": "code",
   "execution_count": null,
   "metadata": {},
   "outputs": [],
   "source": [
    "test_df[[\n",
    "  'race_id', 'race_date',\n",
    "  'pred_class_proba_lr', 'pred_class_proba_rfc',\n",
    "  'implied_win_probability', 'pred_win_probability', 'bet_action', 'finishing_position'\n",
    "]].head(20)\n"
   ]
  },
  {
   "cell_type": "code",
   "execution_count": null,
   "metadata": {},
   "outputs": [],
   "source": [
    "test_df['cost'] = 100\n",
    "test_df['actual_profit'] = test_df['bet_action'] * (\n",
    "    test_df['win_odds'] * test_df['cost'] * (test_df['finishing_position'] == 1) - test_df['cost']\n",
    ")\n"
   ]
  },
  {
   "cell_type": "code",
   "execution_count": null,
   "metadata": {},
   "outputs": [],
   "source": [
    "pnl = test_df.groupby('race_id').sum()['actual_profit']\n",
    "cumulative_pnl = pnl.cumsum()\n",
    "cumulative_pnl_df = cumulative_pnl.reset_index()\n",
    "print(cumulative_pnl_df.shape)\n",
    "cumulative_pnl_df.head()\n"
   ]
  },
  {
   "cell_type": "code",
   "execution_count": null,
   "metadata": {},
   "outputs": [],
   "source": [
    "cumulative_pnl_df = cumulative_pnl_df.set_index('race_id').join(test_df[['race_date', 'race_id']].set_index('race_id'), how='inner').reset_index()\n",
    "cumulative_pnl_df.drop_duplicates(inplace=True)\n",
    "print(cumulative_pnl_df.shape)\n",
    "cumulative_pnl_df.head()\n"
   ]
  },
  {
   "cell_type": "code",
   "execution_count": null,
   "metadata": {},
   "outputs": [],
   "source": [
    "cumulative_pnl_df['race_date'] = pd.to_datetime(cumulative_pnl_df['race_date'])\n",
    "\n",
    "fig = px.line(cumulative_pnl_df, x='race_date', y='actual_profit', title='Cumulative Profit and Loss with Finish Position Classifiers')\n",
    "fig.update_xaxes(title='Date')\n",
    "fig.update_yaxes(title='Profit and Loss ($)')\n",
    "fig.show()\n"
   ]
  },
  {
   "cell_type": "markdown",
   "metadata": {},
   "source": [
    "#### Only bet on the top performing horse in each race"
   ]
  },
  {
   "cell_type": "code",
   "execution_count": null,
   "metadata": {},
   "outputs": [],
   "source": [
    "test_df['bet_action'] = test_df.groupby('race_id')['pred_win_probability'].transform('max')\n",
    "test_df['bet_action'] = test_df['bet_action'] == test_df['pred_win_probability']\n",
    "test_df['actual_profit'] = test_df['bet_action'] * (\n",
    "    test_df['win_odds'] * test_df['cost'] * (test_df['finishing_position'] == 1) - test_df['cost']\n",
    ")\n"
   ]
  },
  {
   "cell_type": "code",
   "execution_count": null,
   "metadata": {},
   "outputs": [],
   "source": [
    "pnl = test_df.groupby('race_id').sum()['actual_profit']\n",
    "cumulative_pnl = pnl.cumsum()\n",
    "cumulative_pnl_df = cumulative_pnl.reset_index()\n",
    "print(cumulative_pnl_df.shape)\n",
    "cumulative_pnl_df.head()\n"
   ]
  },
  {
   "cell_type": "code",
   "execution_count": null,
   "metadata": {},
   "outputs": [],
   "source": [
    "cumulative_pnl_df = cumulative_pnl_df.set_index('race_id').join(test_df[['race_date', 'race_id']].set_index('race_id'), how='inner').reset_index()\n",
    "cumulative_pnl_df.drop_duplicates(inplace=True)\n",
    "print(cumulative_pnl_df.shape)\n",
    "cumulative_pnl_df.head()\n"
   ]
  },
  {
   "cell_type": "code",
   "execution_count": null,
   "metadata": {},
   "outputs": [],
   "source": [
    "cumulative_pnl_df['race_date'] = pd.to_datetime(cumulative_pnl_df['race_date'])\n",
    "\n",
    "fig = px.line(cumulative_pnl_df, x='race_date', y='actual_profit', title='Cumulative Profit and Loss with Finish Position Classifiers using Flat Betting')\n",
    "fig.update_xaxes(title='Date')\n",
    "fig.update_yaxes(title='Profit and Loss ($)')\n",
    "fig.show()\n"
   ]
  },
  {
   "cell_type": "code",
   "execution_count": null,
   "metadata": {},
   "outputs": [],
   "source": [
    "cumulative_pnl_df.tail()\n"
   ]
  },
  {
   "cell_type": "code",
   "execution_count": null,
   "metadata": {},
   "outputs": [],
   "source": [
    "test_df[test_df['bet_action'] & test_df['finishing_position'] == 1]['bet_action'].count()\n"
   ]
  },
  {
   "cell_type": "code",
   "execution_count": null,
   "metadata": {},
   "outputs": [],
   "source": [
    "def print_stats(profit,cost, scale = 365):\n",
    "    pnl = profit/cost\n",
    "    mean = pnl.mean()\n",
    "    std = pnl.std()\n",
    "    median = pnl.median()\n",
    "    cumsum_pnl = profit.cumsum()\n",
    "    # append 0 to start of cumsum_pnl\n",
    "    # cumsum_pnl = pd.concat([pd.Series([0]), cumsum_pnl], ignore_index=True)\n",
    "    drawdown = (cumsum_pnl - cumsum_pnl.cummax())\n",
    "    max_drawdown = min(drawdown.min(),cumsum_pnl.min())\n",
    "    sharpe_ratio = mean / std * np.sqrt(scale)\n",
    "    win_rate = (pnl > 0).sum() / (pnl != 0).sum()\n",
    "\n",
    "    total_bets =  ((profit != 0)*cost).sum() \n",
    "    total_pct_return = cumsum_pnl[-1]/total_bets\n",
    "\n",
    "    print(\"Win Rate:\", round(win_rate*100,2), \"%\")\n",
    "    print(\"Total Bets:\", round(total_bets,2))\n",
    "    print(\"Total Return:\", round(cumsum_pnl[-1],2))\n",
    "    print(\"Total Pct Return:\", round(total_pct_return*100,2), \"%\")\n",
    "    print(\"Mean: \", round(mean*100,2),\"%\")\n",
    "    print(\"Standard Deviation: \", round(std*100,2),\"%\")\n",
    "    print(\"Median: \", round(median*100,2),\"%\")\n",
    "    print(\"Max Drawdown: \", round(max_drawdown,2))\n",
    "    print(\"Sharpe Ratio: \", round(sharpe_ratio,4))\n",
    "\n",
    "bets = test_df.groupby([\"race_id\"]).sum()\n",
    "print_stats(\n",
    "    bets[\"bet_action\"] * bets[\"actual_profit\"], \n",
    "    bets[\"bet_action\"] * bets[\"cost\"], \n",
    "    scale = 1\n",
    ")\n"
   ]
  },
  {
   "cell_type": "markdown",
   "metadata": {},
   "source": [
    "#### Optimal betting using Kelly Criterion"
   ]
  },
  {
   "cell_type": "code",
   "execution_count": null,
   "metadata": {},
   "outputs": [],
   "source": [
    "# set cost using kelley criterion\n",
    "b = test_df['win_odds'] - 1\n",
    "p = test_df['pred_win_probability']\n",
    "q = 1 - p\n",
    "betting_principal = 100\n",
    "test_df['cost'] = ((b * p - q) / b) * betting_principal\n",
    "\n",
    "# set cost to 0 if the cost is negative\n",
    "test_df['cost'] = np.where(\n",
    "    test_df['cost'] < 0, 0, test_df['cost']\n",
    ")\n",
    "\n",
    "test_df['expected_payoff'] = (\n",
    "    test_df[\"win_odds\"]\n",
    "    * test_df['cost']\n",
    "    * test_df['pred_win_probability']\n",
    ")\n",
    "test_df['expected_profit'] = (\n",
    "    test_df['expected_payoff'] - test_df[\"cost\"]\n",
    ")\n"
   ]
  },
  {
   "cell_type": "code",
   "execution_count": null,
   "metadata": {},
   "outputs": [],
   "source": [
    "test_df['bet_action'] = test_df.groupby('race_id')['pred_win_probability'].transform('max')\n",
    "test_df['bet_action'] = test_df['bet_action'] == test_df['pred_win_probability']\n",
    "test_df['actual_profit'] = test_df['bet_action'] * (\n",
    "    test_df['win_odds'] * test_df['cost'] * (test_df['finishing_position'] == 1) - test_df['cost']\n",
    ")\n"
   ]
  },
  {
   "cell_type": "markdown",
   "metadata": {},
   "source": [
    "#### First 20 Race Bets Outcome"
   ]
  },
  {
   "cell_type": "code",
   "execution_count": null,
   "metadata": {},
   "outputs": [],
   "source": [
    "test_df[(test_df['bet_action'] == True) | (test_df['finishing_position'] == 1)][\n",
    "    [\n",
    "        'race_id', 'pred_win_probability', 'win_odds', 'cost', \n",
    "        'expected_payoff', 'expected_profit', 'actual_profit', 'bet_action', \n",
    "        'finishing_position'\n",
    "    ]\n",
    "].head(20)\n"
   ]
  },
  {
   "cell_type": "code",
   "execution_count": null,
   "metadata": {},
   "outputs": [],
   "source": [
    "pnl = test_df.groupby('race_id').sum()['actual_profit']\n",
    "cumulative_pnl = pnl.cumsum()\n",
    "cumulative_pnl_df = cumulative_pnl.reset_index()\n",
    "print(cumulative_pnl_df.shape)\n",
    "cumulative_pnl_df.head()\n"
   ]
  },
  {
   "cell_type": "code",
   "execution_count": null,
   "metadata": {},
   "outputs": [],
   "source": [
    "cumulative_pnl_df = cumulative_pnl_df.set_index('race_id').join(test_df[['race_date', 'race_id']].set_index('race_id'), how='inner').reset_index()\n",
    "cumulative_pnl_df.drop_duplicates(inplace=True)\n",
    "print(cumulative_pnl_df.shape)\n",
    "cumulative_pnl_df.head()\n"
   ]
  },
  {
   "cell_type": "code",
   "execution_count": null,
   "metadata": {},
   "outputs": [],
   "source": [
    "cumulative_pnl_df['race_date'] = pd.to_datetime(cumulative_pnl_df['race_date'])\n",
    "\n",
    "fig = px.line(cumulative_pnl_df, x='race_date', y='actual_profit', title='Cumulative Profit and Loss with Finish Position Classifiers using Kelly Criterion')\n",
    "fig.update_xaxes(title='Date')\n",
    "fig.update_yaxes(title='Profit and Loss ($)')\n",
    "fig.show()\n"
   ]
  },
  {
   "cell_type": "code",
   "execution_count": null,
   "metadata": {},
   "outputs": [],
   "source": [
    "cumulative_pnl_df.tail()\n"
   ]
  },
  {
   "cell_type": "code",
   "execution_count": null,
   "metadata": {},
   "outputs": [],
   "source": [
    "def print_stats(profit,cost, scale = 365):\n",
    "    pnl = profit/cost\n",
    "    mean = pnl.mean()\n",
    "    std = pnl.std()\n",
    "    median = pnl.median()\n",
    "    cumsum_pnl = profit.cumsum()\n",
    "    # append 0 to start of cumsum_pnl\n",
    "    # cumsum_pnl = pd.concat([pd.Series([0]), cumsum_pnl], ignore_index=True)\n",
    "    drawdown = (cumsum_pnl - cumsum_pnl.cummax())\n",
    "    max_drawdown = min(drawdown.min(),cumsum_pnl.min())\n",
    "    sharpe_ratio = mean / std * np.sqrt(scale)\n",
    "    win_rate = (pnl > 0).sum() / (pnl != 0).sum()\n",
    "\n",
    "    total_bets =  ((profit != 0)*cost).sum() \n",
    "    total_pct_return = cumsum_pnl[-1]/total_bets\n",
    "\n",
    "    print(\"Win Rate:\", round(win_rate*100,2), \"%\")\n",
    "    print(\"Total Bets:\", round(total_bets,2))\n",
    "    print(\"Total Return:\", round(cumsum_pnl[-1],2))\n",
    "    print(\"Total Pct Return:\", round(total_pct_return*100,2), \"%\")\n",
    "    print(\"Mean: \", round(mean*100,2),\"%\")\n",
    "    print(\"Standard Deviation: \", round(std*100,2),\"%\")\n",
    "    print(\"Median: \", round(median*100,2),\"%\")\n",
    "    print(\"Max Drawdown: \", round(max_drawdown,2))\n",
    "    print(\"Sharpe Ratio: \", round(sharpe_ratio,4))\n",
    "\n",
    "bets = test_df.groupby([\"race_id\"]).sum()\n",
    "print_stats(\n",
    "    bets[\"bet_action\"] * bets[\"actual_profit\"], \n",
    "    bets[\"bet_action\"] * bets[\"cost\"], \n",
    "    scale = 1\n",
    ")\n"
   ]
  }
 ],
 "metadata": {
  "kernelspec": {
   "display_name": "Python 3",
   "language": "python",
   "name": "python3"
  },
  "language_info": {
   "codemirror_mode": {
    "name": "ipython",
    "version": 3
   },
   "file_extension": ".py",
   "mimetype": "text/x-python",
   "name": "python",
   "nbconvert_exporter": "python",
   "pygments_lexer": "ipython3",
   "version": "3.9.16"
  }
 },
 "nbformat": 4,
 "nbformat_minor": 2
}
