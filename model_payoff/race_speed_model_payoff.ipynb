{
 "cells": [
  {
   "cell_type": "code",
   "execution_count": null,
   "metadata": {},
   "outputs": [],
   "source": [
    "import pandas as pd\n",
    "import numpy as np\n",
    "import plotly.express as px\n",
    "import plotly.graph_objects as go\n",
    "\n",
    "import pickle\n"
   ]
  },
  {
   "cell_type": "code",
   "execution_count": null,
   "metadata": {},
   "outputs": [],
   "source": [
    "with open(\"../model/regression/race_speed_lasso_model.pkl\", \"rb\") as lasso_model_file:\n",
    "    lasso = pickle.load(lasso_model_file)\n",
    "\n",
    "with open(\"../model/regression/race_speed_ridge_model.pkl\", \"rb\") as ridge_model_file:\n",
    "    ridge = pickle.load(ridge_model_file)\n",
    "\n",
    "with open(\"../model/regression/race_speed_gbr_model.pkl\", \"rb\") as gbr_model_file:\n",
    "    gbr = pickle.load(gbr_model_file)\n",
    "\n",
    "with open(\"../model/regression/race_speed_rfr_model.pkl\", \"rb\") as rfr_model_file:\n",
    "    rfr = pickle.load(rfr_model_file)\n"
   ]
  },
  {
   "cell_type": "code",
   "execution_count": null,
   "metadata": {},
   "outputs": [],
   "source": [
    "test_df = pd.read_csv(\"../eda/test.csv\")\n",
    "print(test_df.shape)\n",
    "test_df.head()\n"
   ]
  },
  {
   "cell_type": "code",
   "execution_count": null,
   "metadata": {},
   "outputs": [],
   "source": [
    "FEATURES = [\n",
    "    'draw_segments', 'horse_number_segments', 'race_distance',\n",
    "    'temperature_2m_max', 'wind_speed_10m_max',\n",
    "    'proportion_of_additional_weight', 'track_width', 'track_moisture',\n",
    "    'colour_segment', 'sex_segment', 'country_segment',\n",
    "    'win_freq', 'place_freq', 'average_placing', 'average_speed',\n",
    "    'average_rating', 'average_race_class'\n",
    "]\n",
    "\n",
    "X = test_df[FEATURES]\n",
    "X.shape\n"
   ]
  },
  {
   "cell_type": "code",
   "execution_count": null,
   "metadata": {},
   "outputs": [],
   "source": [
    "\n"
   ]
  },
  {
   "cell_type": "markdown",
   "metadata": {},
   "source": [
    "#### Use previously trained model to predict race speed and derive positions based on ranking of predicted speed for each race"
   ]
  },
  {
   "cell_type": "code",
   "execution_count": null,
   "metadata": {},
   "outputs": [],
   "source": [
    "y_pred_lasso = lasso.predict(X)\n",
    "y_pred_ridge = ridge.predict(X)\n",
    "y_pred_gbr = gbr.predict(X)\n",
    "y_pred_rfr = rfr.predict(X)\n",
    "\n",
    "test_df['pred_speed_lasso'] = y_pred_lasso\n",
    "test_df['pred_speed_ridge'] = y_pred_ridge\n",
    "test_df['pred_speed_gbr'] = y_pred_gbr\n",
    "test_df['pred_speed_rfr'] = y_pred_rfr\n",
    "test_df.head()\n"
   ]
  },
  {
   "cell_type": "code",
   "execution_count": null,
   "metadata": {},
   "outputs": [],
   "source": [
    "test_df['pred_position_lasso'] = test_df.groupby('race_id')['pred_speed_lasso'].rank(method='dense', ascending=False)\n",
    "test_df['pred_position_ridge'] = test_df.groupby('race_id')['pred_speed_ridge'].rank(method='dense', ascending=False)\n",
    "test_df['pred_position_gbr'] = test_df.groupby('race_id')['pred_speed_gbr'].rank(method='dense', ascending=False)\n",
    "test_df['pred_position_rfr'] = test_df.groupby('race_id')['pred_speed_rfr'].rank(method='dense', ascending=False)\n",
    "test_df.head()\n"
   ]
  },
  {
   "cell_type": "markdown",
   "metadata": {},
   "source": [
    "# Making Betting Decisions"
   ]
  },
  {
   "cell_type": "code",
   "execution_count": null,
   "metadata": {},
   "outputs": [],
   "source": [
    "test_df['implied_win_probability'] = 1 / test_df['win_odds']\n",
    "test_df['pred_win_probability'] = (\n",
    "  (1 / test_df['pred_position_lasso'] * 0.25) + \n",
    "  (1 / test_df['pred_position_ridge'] * 0.25) + \n",
    "  (1 / test_df['pred_position_gbr'] * 0.25) + \n",
    "  (1 / test_df['pred_position_rfr'] * 0.25)\n",
    ")\n",
    "test_df['bet_action'] = test_df['pred_win_probability'] > test_df['implied_win_probability']\n",
    "test_df.head()\n"
   ]
  },
  {
   "cell_type": "code",
   "execution_count": null,
   "metadata": {},
   "outputs": [],
   "source": [
    "test_df[[\n",
    "  'race_id', 'race_date',\n",
    "  'pred_speed_lasso', 'pred_speed_ridge', 'pred_speed_gbr', 'pred_speed_rfr',\n",
    "  'pred_position_lasso', 'pred_position_ridge', 'pred_position_gbr', 'pred_position_rfr',\n",
    "  'implied_win_probability', 'pred_win_probability', 'bet_action', 'finishing_position'\n",
    "]].head(20)\n"
   ]
  },
  {
   "cell_type": "code",
   "execution_count": null,
   "metadata": {},
   "outputs": [],
   "source": [
    "test_df['cost'] = 100\n",
    "test_df['actual_profit'] = test_df['bet_action'] * (\n",
    "    test_df['win_odds'] * test_df['cost'] * (test_df['finishing_position'] == 1) - test_df['cost']\n",
    ")\n"
   ]
  },
  {
   "cell_type": "code",
   "execution_count": null,
   "metadata": {},
   "outputs": [],
   "source": [
    "pnl = test_df.groupby('race_id').sum()['actual_profit']\n",
    "cumulative_pnl = pnl.cumsum()\n",
    "cumulative_pnl_df = cumulative_pnl.reset_index()\n",
    "print(cumulative_pnl_df.shape)\n",
    "cumulative_pnl_df.head()\n"
   ]
  },
  {
   "cell_type": "code",
   "execution_count": null,
   "metadata": {},
   "outputs": [],
   "source": [
    "cumulative_pnl_df = cumulative_pnl_df.set_index('race_id').join(test_df[['race_date', 'race_id']].set_index('race_id'), how='inner').reset_index()\n",
    "cumulative_pnl_df.drop_duplicates(inplace=True)\n",
    "print(cumulative_pnl_df.shape)\n",
    "cumulative_pnl_df.head()\n"
   ]
  },
  {
   "cell_type": "code",
   "execution_count": null,
   "metadata": {},
   "outputs": [],
   "source": [
    "cumulative_pnl_df['race_date'] = pd.to_datetime(cumulative_pnl_df['race_date'])\n",
    "\n",
    "fig = px.line(cumulative_pnl_df, x='race_date', y='actual_profit', title='Cumulative Profit and Loss with Race Speed Regressors')\n",
    "fig.update_xaxes(title='Date')\n",
    "fig.update_yaxes(title='Profit and Loss ($)')\n",
    "fig.show()\n"
   ]
  },
  {
   "cell_type": "markdown",
   "metadata": {},
   "source": [
    "#### Only bet on the top performing horse in each race"
   ]
  },
  {
   "cell_type": "code",
   "execution_count": null,
   "metadata": {},
   "outputs": [],
   "source": [
    "test_df['bet_action'] = test_df.groupby('race_id')['pred_win_probability'].transform('max')\n",
    "test_df['bet_action'] = test_df['bet_action'] == test_df['pred_win_probability']\n",
    "test_df['actual_profit'] = test_df['bet_action'] * (\n",
    "    test_df['win_odds'] * test_df['cost'] * (test_df['finishing_position'] == 1) - test_df['cost']\n",
    ")\n"
   ]
  },
  {
   "cell_type": "code",
   "execution_count": null,
   "metadata": {},
   "outputs": [],
   "source": [
    "pnl = test_df.groupby('race_id').sum()['actual_profit']\n",
    "cumulative_pnl = pnl.cumsum()\n",
    "cumulative_pnl_df = cumulative_pnl.reset_index()\n",
    "print(cumulative_pnl_df.shape)\n",
    "cumulative_pnl_df.head()\n"
   ]
  },
  {
   "cell_type": "code",
   "execution_count": null,
   "metadata": {},
   "outputs": [],
   "source": [
    "cumulative_pnl_df = cumulative_pnl_df.set_index('race_id').join(test_df[['race_date', 'race_id']].set_index('race_id'), how='inner').reset_index()\n",
    "cumulative_pnl_df.drop_duplicates(inplace=True)\n",
    "print(cumulative_pnl_df.shape)\n",
    "cumulative_pnl_df.head()\n"
   ]
  },
  {
   "cell_type": "code",
   "execution_count": null,
   "metadata": {},
   "outputs": [],
   "source": [
    "cumulative_pnl_df['race_date'] = pd.to_datetime(cumulative_pnl_df['race_date'])\n",
    "\n",
    "fig = px.line(cumulative_pnl_df, x='race_date', y='actual_profit', title='Cumulative Profit and Loss with Race Speed Regressors')\n",
    "fig.update_xaxes(title='Date')\n",
    "fig.update_yaxes(title='Profit and Loss ($)')\n",
    "fig.show()\n"
   ]
  },
  {
   "cell_type": "code",
   "execution_count": null,
   "metadata": {},
   "outputs": [],
   "source": [
    "cumulative_pnl_df.tail()\n"
   ]
  },
  {
   "cell_type": "code",
   "execution_count": null,
   "metadata": {},
   "outputs": [],
   "source": [
    "test_df[test_df['bet_action'] & test_df['finishing_position'] == 1]['bet_action'].count()\n"
   ]
  }
 ],
 "metadata": {
  "kernelspec": {
   "display_name": "Python 3",
   "language": "python",
   "name": "python3"
  },
  "language_info": {
   "codemirror_mode": {
    "name": "ipython",
    "version": 3
   },
   "file_extension": ".py",
   "mimetype": "text/x-python",
   "name": "python",
   "nbconvert_exporter": "python",
   "pygments_lexer": "ipython3",
   "version": "3.9.16"
  }
 },
 "nbformat": 4,
 "nbformat_minor": 2
}
