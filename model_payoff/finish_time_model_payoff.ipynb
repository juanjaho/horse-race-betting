{
 "cells": [
  {
   "cell_type": "code",
   "execution_count": null,
   "metadata": {},
   "outputs": [],
   "source": [
    "import pandas as pd\n",
    "import numpy as np\n",
    "import plotly.express as px\n",
    "import plotly.graph_objects as go\n",
    "\n",
    "import pickle\n"
   ]
  },
  {
   "cell_type": "code",
   "execution_count": null,
   "metadata": {},
   "outputs": [],
   "source": [
    "with open(\"../model/regression/finish_time_lasso_model.pkl\", \"rb\") as lasso_model_file:\n",
    "    lasso = pickle.load(lasso_model_file)\n",
    "\n",
    "with open(\"../model/regression/finish_time_ridge_model.pkl\", \"rb\") as ridge_model_file:\n",
    "    ridge = pickle.load(ridge_model_file)\n",
    "\n",
    "with open(\"../model/regression/finish_time_gbr_model.pkl\", \"rb\") as gbr_model_file:\n",
    "    gbr = pickle.load(gbr_model_file)\n",
    "\n",
    "with open(\"../model/regression/finish_time_rfr_model.pkl\", \"rb\") as rfr_model_file:\n",
    "    rfr = pickle.load(rfr_model_file)\n"
   ]
  },
  {
   "cell_type": "code",
   "execution_count": null,
   "metadata": {},
   "outputs": [],
   "source": [
    "test_df = pd.read_csv(\"../eda/test.csv\")\n",
    "print(test_df.shape)\n",
    "test_df.head()\n"
   ]
  },
  {
   "cell_type": "code",
   "execution_count": null,
   "metadata": {},
   "outputs": [],
   "source": [
    "test_df['finishing_position'] = test_df['finishing_position'].astype(int)\n"
   ]
  },
  {
   "cell_type": "code",
   "execution_count": null,
   "metadata": {},
   "outputs": [],
   "source": [
    "FEATURES = [\n",
    "    'draw_segments', 'horse_number_segments', 'race_distance',\n",
    "    'temperature_2m_max', 'wind_speed_10m_max',\n",
    "    'proportion_of_additional_weight', 'track_width', 'track_moisture',\n",
    "    'colour_segment', 'sex_segment', 'country_segment',\n",
    "    'win_freq', 'place_freq', 'average_placing', 'average_speed'\n",
    "]\n",
    "\n",
    "X = test_df[FEATURES]\n",
    "X.shape\n"
   ]
  },
  {
   "cell_type": "markdown",
   "metadata": {},
   "source": [
    "#### Use previously trained model to predict race speed and derive positions based on ranking of predicted speed for each race"
   ]
  },
  {
   "cell_type": "code",
   "execution_count": null,
   "metadata": {},
   "outputs": [],
   "source": [
    "y_pred_lasso = lasso.predict(X)\n",
    "y_pred_ridge = ridge.predict(X)\n",
    "y_pred_gbr = gbr.predict(X)\n",
    "y_pred_rfr = rfr.predict(X)\n",
    "\n",
    "test_df['pred_time_lasso'] = y_pred_lasso\n",
    "test_df['pred_time_ridge'] = y_pred_ridge\n",
    "test_df['pred_time_gbr'] = y_pred_gbr\n",
    "test_df['pred_time_rfr'] = y_pred_rfr\n",
    "test_df.head()\n"
   ]
  },
  {
   "cell_type": "code",
   "execution_count": null,
   "metadata": {},
   "outputs": [],
   "source": [
    "test_df['pred_position_lasso'] = test_df.groupby('race_id')['pred_time_lasso'].rank(method='dense', ascending=True)\n",
    "test_df['pred_position_ridge'] = test_df.groupby('race_id')['pred_time_ridge'].rank(method='dense', ascending=True)\n",
    "test_df['pred_position_gbr'] = test_df.groupby('race_id')['pred_time_gbr'].rank(method='dense', ascending=True)\n",
    "test_df['pred_position_rfr'] = test_df.groupby('race_id')['pred_time_rfr'].rank(method='dense', ascending=True)\n",
    "test_df.head()\n"
   ]
  },
  {
   "cell_type": "markdown",
   "metadata": {},
   "source": [
    "# Making Betting Decisions"
   ]
  },
  {
   "cell_type": "code",
   "execution_count": null,
   "metadata": {},
   "outputs": [],
   "source": [
    "test_df['implied_win_probability'] = 1 / test_df['win_odds']\n",
    "test_df['pred_win_probability'] = (\n",
    "  (1 / test_df['pred_position_lasso'] * 0.25) + \n",
    "  (1 / test_df['pred_position_ridge'] * 0.25) + \n",
    "  (1 / test_df['pred_position_gbr'] * 0.25) + \n",
    "  (1 / test_df['pred_position_rfr'] * 0.25)\n",
    ")\n",
    "test_df['cost'] = 100\n"
   ]
  },
  {
   "cell_type": "markdown",
   "metadata": {},
   "source": [
    "#### Only bet on the top performing horse in each race"
   ]
  },
  {
   "cell_type": "code",
   "execution_count": null,
   "metadata": {},
   "outputs": [],
   "source": [
    "def place_bet(row):\n",
    "    if row['bet_action']:\n",
    "        if row['finishing_position'] == 1:\n",
    "            return row['win_odds'] * row['cost'] - row['cost']\n",
    "        else:\n",
    "            return -row['cost']\n",
    "    else:\n",
    "        return 0\n",
    "\n",
    "test_df['max_race_probability'] = test_df.groupby('race_id')['pred_win_probability'].transform('max')\n",
    "test_df['bet_action'] = test_df['max_race_probability']  == test_df['pred_win_probability']\n",
    "test_df['actual_profit'] = test_df.apply(place_bet, axis=1)\n"
   ]
  },
  {
   "cell_type": "code",
   "execution_count": null,
   "metadata": {},
   "outputs": [],
   "source": [
    "pnl = test_df.groupby('race_id').sum()['actual_profit']\n",
    "cumulative_pnl = pnl.cumsum()\n",
    "cumulative_pnl_df = cumulative_pnl.reset_index()\n",
    "print(cumulative_pnl_df.shape)\n",
    "cumulative_pnl_df.head()\n"
   ]
  },
  {
   "cell_type": "code",
   "execution_count": null,
   "metadata": {},
   "outputs": [],
   "source": [
    "cumulative_pnl_df = cumulative_pnl_df.set_index('race_id').join(test_df[['race_date', 'race_id']].set_index('race_id'), how='inner').reset_index()\n",
    "cumulative_pnl_df.drop_duplicates(inplace=True)\n",
    "print(cumulative_pnl_df.shape)\n",
    "cumulative_pnl_df.head()\n"
   ]
  },
  {
   "cell_type": "code",
   "execution_count": null,
   "metadata": {},
   "outputs": [],
   "source": [
    "cumulative_pnl_df['race_date'] = pd.to_datetime(cumulative_pnl_df['race_date'])\n",
    "\n",
    "fig = px.line(cumulative_pnl_df, x='race_date', y='actual_profit', title='Cumulative P/L from Finish Time Regressors with Flat Betting')\n",
    "fig.update_xaxes(title='Date')\n",
    "fig.update_yaxes(title='P/L ($)')\n",
    "\n",
    "fig.add_shape(\n",
    "    type=\"line\",\n",
    "    x0=cumulative_pnl_df['race_date'].iloc[0], x1=cumulative_pnl_df['race_date'].iloc[-1],\n",
    "    y0=cumulative_pnl_df['actual_profit'].iloc[-1], y1=cumulative_pnl_df['actual_profit'].iloc[-1],\n",
    "    line=dict(color=\"red\", width=1, dash=\"dash\")\n",
    ")\n",
    "\n",
    "fig.add_annotation(\n",
    "    x=cumulative_pnl_df['race_date'].iloc[-1], y=cumulative_pnl_df['actual_profit'].iloc[-1], text=f\"${cumulative_pnl_df['actual_profit'].iloc[-1]:,.2f}\",\n",
    "    showarrow=True, arrowhead=1\n",
    ")\n",
    "\n",
    "fig.update_layout(template='plotly_dark', width=1000, height=500)\n",
    "\n",
    "fig.show()\n"
   ]
  },
  {
   "cell_type": "code",
   "execution_count": null,
   "metadata": {},
   "outputs": [],
   "source": [
    "cumulative_pnl_df.tail()\n"
   ]
  },
  {
   "cell_type": "code",
   "execution_count": null,
   "metadata": {},
   "outputs": [],
   "source": [
    "print(test_df[test_df['bet_action'] & test_df['finishing_position'] == 1]['bet_action'].count())\n",
    "test_df[test_df['bet_action'] & test_df['finishing_position'] == 1]['bet_action'].count() / test_df['bet_action'].sum()\n"
   ]
  },
  {
   "cell_type": "code",
   "execution_count": null,
   "metadata": {},
   "outputs": [],
   "source": [
    "def print_stats(profit,cost, scale = 365):\n",
    "    pnl = profit/cost\n",
    "    mean = pnl.mean()\n",
    "    std = pnl.std()\n",
    "    median = pnl.median()\n",
    "    cumsum_pnl = profit.cumsum()\n",
    "    # append 0 to start of cumsum_pnl\n",
    "    # cumsum_pnl = pd.concat([pd.Series([0]), cumsum_pnl], ignore_index=True)\n",
    "    drawdown = (cumsum_pnl - cumsum_pnl.cummax())\n",
    "    max_drawdown = min(drawdown.min(),cumsum_pnl.min())\n",
    "    sharpe_ratio = mean / std * np.sqrt(scale)\n",
    "    win_rate = (pnl > 0).sum() / (pnl != 0).sum()\n",
    "\n",
    "    total_bets =  ((profit != 0)*cost).sum() \n",
    "    total_pct_return = cumsum_pnl[-1]/total_bets\n",
    "\n",
    "    print(\"Win Rate:\", round(win_rate*100,2), \"%\")\n",
    "    print(\"Total Bets:\", round(total_bets,2))\n",
    "    print(\"Total Return:\", round(cumsum_pnl[-1],2))\n",
    "    print(\"Total Pct Return:\", round(total_pct_return*100,2), \"%\")\n",
    "    print(\"Mean: \", round(mean*100,2),\"%\")\n",
    "    print(\"Standard Deviation: \", round(std*100,2),\"%\")\n",
    "    print(\"Median: \", round(median*100,2),\"%\")\n",
    "    print(\"Max Drawdown: \", round(max_drawdown,2))\n",
    "    print(\"Sharpe Ratio: \", round(sharpe_ratio,4))\n",
    "\n",
    "bets = test_df.groupby([\"race_id\"]).sum()\n",
    "print_stats(\n",
    "    pnl, \n",
    "    bets[\"bet_action\"] * bets[\"cost\"], \n",
    "    scale = 1\n",
    ")\n"
   ]
  },
  {
   "cell_type": "markdown",
   "metadata": {},
   "source": [
    "#### Optimal betting using Kelly Criterion"
   ]
  },
  {
   "cell_type": "code",
   "execution_count": null,
   "metadata": {},
   "outputs": [],
   "source": [
    "# set cost using kelley criterion\n",
    "b = test_df['win_odds'] - 1\n",
    "p = test_df['pred_win_probability']\n",
    "q = 1 - p\n",
    "betting_principal = 100\n",
    "test_df['cost'] = ((b * p - q) / b) * betting_principal\n",
    "\n",
    "# set cost to 0 if the cost is negative\n",
    "test_df['cost'] = np.where(\n",
    "    test_df['cost'] < 0, 0, test_df['cost']\n",
    ")\n",
    "\n",
    "test_df['expected_payoff'] = (\n",
    "    test_df[\"win_odds\"]\n",
    "    * test_df['cost']\n",
    "    * test_df['pred_win_probability']\n",
    ")\n",
    "test_df['expected_profit'] = (\n",
    "    test_df['expected_payoff'] - test_df[\"cost\"]\n",
    ")\n"
   ]
  },
  {
   "cell_type": "code",
   "execution_count": null,
   "metadata": {},
   "outputs": [],
   "source": [
    "def place_bet(row):\n",
    "    if row['bet_action']:\n",
    "        if row['finishing_position'] == 1:\n",
    "            return row['win_odds'] * row['cost'] - row['cost']\n",
    "        else:\n",
    "            return -row['cost']\n",
    "    else:\n",
    "        return 0\n",
    "\n",
    "test_df['max_race_probability'] = test_df.groupby('race_id')['pred_win_probability'].transform('max')\n",
    "test_df['bet_action'] = test_df['max_race_probability']  == test_df['pred_win_probability']\n",
    "test_df['actual_profit'] = test_df.apply(place_bet, axis=1)\n"
   ]
  },
  {
   "cell_type": "markdown",
   "metadata": {},
   "source": [
    "#### First 20 Race Bets Outcome"
   ]
  },
  {
   "cell_type": "code",
   "execution_count": null,
   "metadata": {},
   "outputs": [],
   "source": [
    "test_df[(test_df['bet_action'] == True) | (test_df['finishing_position'] == 1)][\n",
    "    [\n",
    "        'race_id', 'pred_win_probability', 'win_odds', 'cost', \n",
    "        'expected_payoff', 'expected_profit', 'actual_profit', 'bet_action', \n",
    "        'finishing_position'\n",
    "    ]\n",
    "].head(20)\n"
   ]
  },
  {
   "cell_type": "code",
   "execution_count": null,
   "metadata": {},
   "outputs": [],
   "source": [
    "pnl = test_df.groupby('race_id').sum()['actual_profit']\n",
    "cumulative_pnl = pnl.cumsum()\n",
    "cumulative_pnl_df = cumulative_pnl.reset_index()\n",
    "print(cumulative_pnl_df.shape)\n",
    "cumulative_pnl_df.head()\n"
   ]
  },
  {
   "cell_type": "code",
   "execution_count": null,
   "metadata": {},
   "outputs": [],
   "source": [
    "cumulative_pnl_df = cumulative_pnl_df.set_index('race_id').join(test_df[['race_date', 'race_id']].set_index('race_id'), how='inner').reset_index()\n",
    "cumulative_pnl_df.drop_duplicates(inplace=True)\n",
    "print(cumulative_pnl_df.shape)\n",
    "cumulative_pnl_df.head()\n"
   ]
  },
  {
   "cell_type": "code",
   "execution_count": null,
   "metadata": {},
   "outputs": [],
   "source": [
    "cumulative_pnl_df['race_date'] = pd.to_datetime(cumulative_pnl_df['race_date'])\n",
    "\n",
    "fig = px.line(cumulative_pnl_df, x='race_date', y='actual_profit', title='Cumulative P/L from Finish Time Regressors with Kelly Criterion')\n",
    "fig.update_xaxes(title='Date')\n",
    "fig.update_yaxes(title='P/L ($)')\n",
    "\n",
    "fig.add_shape(\n",
    "    type=\"line\",\n",
    "    x0=cumulative_pnl_df['race_date'].iloc[0], x1=cumulative_pnl_df['race_date'].iloc[-1],\n",
    "    y0=cumulative_pnl_df['actual_profit'].iloc[-1], y1=cumulative_pnl_df['actual_profit'].iloc[-1],\n",
    "    line=dict(color=\"red\", width=1, dash=\"dash\"),\n",
    "    name=\"Last Data Point\"\n",
    ")\n",
    "\n",
    "fig.add_annotation(\n",
    "    x=cumulative_pnl_df['race_date'].iloc[-1], y=cumulative_pnl_df['actual_profit'].iloc[-1], text=f\"${cumulative_pnl_df['actual_profit'].iloc[-1]:,.2f}\",\n",
    "    showarrow=True, arrowhead=1\n",
    ")\n",
    "\n",
    "fig.update_layout(template='plotly_dark', width=1000, height=500)\n",
    "\n",
    "fig.show()\n"
   ]
  },
  {
   "cell_type": "code",
   "execution_count": null,
   "metadata": {},
   "outputs": [],
   "source": [
    "cumulative_pnl_df.tail()\n"
   ]
  },
  {
   "cell_type": "code",
   "execution_count": null,
   "metadata": {},
   "outputs": [],
   "source": [
    "def print_stats(profit,cost, scale = 365):\n",
    "    pnl = profit/cost\n",
    "    mean = pnl.mean()\n",
    "    std = pnl.std()\n",
    "    median = pnl.median()\n",
    "    cumsum_pnl = profit.cumsum()\n",
    "    # append 0 to start of cumsum_pnl\n",
    "    # cumsum_pnl = pd.concat([pd.Series([0]), cumsum_pnl], ignore_index=True)\n",
    "    drawdown = (cumsum_pnl - cumsum_pnl.cummax())\n",
    "    max_drawdown = min(drawdown.min(),cumsum_pnl.min())\n",
    "    sharpe_ratio = mean / std * np.sqrt(scale)\n",
    "    win_rate = (pnl > 0).sum() / (pnl != 0).sum()\n",
    "\n",
    "    total_bets =  ((profit != 0)*cost).sum() \n",
    "    total_pct_return = cumsum_pnl[-1]/total_bets\n",
    "\n",
    "    print(\"Win Rate:\", round(win_rate*100,2), \"%\")\n",
    "    print(\"Total Bets:\", round(total_bets,2))\n",
    "    print(\"Total Return:\", round(cumsum_pnl[-1],2))\n",
    "    print(\"Total Pct Return:\", round(total_pct_return*100,2), \"%\")\n",
    "    print(\"Mean: \", round(mean*100,2),\"%\")\n",
    "    print(\"Standard Deviation: \", round(std*100,2),\"%\")\n",
    "    print(\"Median: \", round(median*100,2),\"%\")\n",
    "    print(\"Max Drawdown: \", round(max_drawdown,2))\n",
    "    print(\"Sharpe Ratio: \", round(sharpe_ratio,4))\n",
    "\n",
    "bets = test_df.groupby([\"race_id\"]).sum()\n",
    "print_stats(\n",
    "    pnl, \n",
    "    bets[\"bet_action\"] * bets[\"cost\"], \n",
    "    scale = 1\n",
    ")\n"
   ]
  }
 ],
 "metadata": {
  "kernelspec": {
   "display_name": "Python 3",
   "language": "python",
   "name": "python3"
  },
  "language_info": {
   "codemirror_mode": {
    "name": "ipython",
    "version": 3
   },
   "file_extension": ".py",
   "mimetype": "text/x-python",
   "name": "python",
   "nbconvert_exporter": "python",
   "pygments_lexer": "ipython3",
   "version": "3.9.16"
  }
 },
 "nbformat": 4,
 "nbformat_minor": 2
}
